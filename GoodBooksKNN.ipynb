{
 "cells": [
  {
   "cell_type": "code",
   "execution_count": 1,
   "id": "a432333e",
   "metadata": {
    "_cell_guid": "b1076dfc-b9ad-4769-8c92-a6c4dae69d19",
    "_uuid": "8f2839f25d086af736a60e9eeb907d3b93b6e0e5",
    "execution": {
     "iopub.execute_input": "2022-08-27T16:40:09.137475Z",
     "iopub.status.busy": "2022-08-27T16:40:09.136324Z",
     "iopub.status.idle": "2022-08-27T16:40:09.152280Z",
     "shell.execute_reply": "2022-08-27T16:40:09.151259Z"
    },
    "papermill": {
     "duration": 0.039288,
     "end_time": "2022-08-27T16:40:09.155709",
     "exception": false,
     "start_time": "2022-08-27T16:40:09.116421",
     "status": "completed"
    },
    "tags": []
   },
   "outputs": [
    {
     "name": "stdout",
     "output_type": "stream",
     "text": [
      "/kaggle/input/goodreads-books-reviews-290312/goodreads_test.csv\n",
      "/kaggle/input/goodreads-books-reviews-290312/goodreads_sample_submission.csv\n",
      "/kaggle/input/goodreads-books-reviews-290312/goodreads_train.csv\n"
     ]
    }
   ],
   "source": [
    "import numpy as np \n",
    "import pandas as pd \n",
    "import matplotlib.pyplot as plt\n",
    "\n",
    "import os\n",
    "for dirname, _, filenames in os.walk('/kaggle/input'):\n",
    "    for filename in filenames:\n",
    "        print(os.path.join(dirname, filename))\n"
   ]
  },
  {
   "cell_type": "markdown",
   "id": "1846b9b7",
   "metadata": {
    "papermill": {
     "duration": 0.018555,
     "end_time": "2022-08-27T16:40:09.191588",
     "exception": false,
     "start_time": "2022-08-27T16:40:09.173033",
     "status": "completed"
    },
    "tags": []
   },
   "source": [
    "### Uploading and examinig the train data"
   ]
  },
  {
   "cell_type": "code",
   "execution_count": 2,
   "id": "c4f268ba",
   "metadata": {
    "execution": {
     "iopub.execute_input": "2022-08-27T16:40:09.227646Z",
     "iopub.status.busy": "2022-08-27T16:40:09.226788Z",
     "iopub.status.idle": "2022-08-27T16:40:33.043378Z",
     "shell.execute_reply": "2022-08-27T16:40:33.042454Z"
    },
    "papermill": {
     "duration": 23.837633,
     "end_time": "2022-08-27T16:40:33.045943",
     "exception": false,
     "start_time": "2022-08-27T16:40:09.208310",
     "status": "completed"
    },
    "tags": []
   },
   "outputs": [
    {
     "data": {
      "text/html": [
       "<div>\n",
       "<style scoped>\n",
       "    .dataframe tbody tr th:only-of-type {\n",
       "        vertical-align: middle;\n",
       "    }\n",
       "\n",
       "    .dataframe tbody tr th {\n",
       "        vertical-align: top;\n",
       "    }\n",
       "\n",
       "    .dataframe thead th {\n",
       "        text-align: right;\n",
       "    }\n",
       "</style>\n",
       "<table border=\"1\" class=\"dataframe\">\n",
       "  <thead>\n",
       "    <tr style=\"text-align: right;\">\n",
       "      <th></th>\n",
       "      <th>user_id</th>\n",
       "      <th>book_id</th>\n",
       "      <th>review_id</th>\n",
       "      <th>rating</th>\n",
       "      <th>review_text</th>\n",
       "      <th>date_added</th>\n",
       "      <th>date_updated</th>\n",
       "      <th>read_at</th>\n",
       "      <th>started_at</th>\n",
       "      <th>n_votes</th>\n",
       "      <th>n_comments</th>\n",
       "    </tr>\n",
       "  </thead>\n",
       "  <tbody>\n",
       "    <tr>\n",
       "      <th>0</th>\n",
       "      <td>8842281e1d1347389f2ab93d60773d4d</td>\n",
       "      <td>18245960</td>\n",
       "      <td>dfdbb7b0eb5a7e4c26d59a937e2e5feb</td>\n",
       "      <td>5</td>\n",
       "      <td>This is a special book. It started slow for ab...</td>\n",
       "      <td>Sun Jul 30 07:44:10 -0700 2017</td>\n",
       "      <td>Wed Aug 30 00:00:26 -0700 2017</td>\n",
       "      <td>Sat Aug 26 12:05:52 -0700 2017</td>\n",
       "      <td>Tue Aug 15 13:23:18 -0700 2017</td>\n",
       "      <td>28</td>\n",
       "      <td>1</td>\n",
       "    </tr>\n",
       "    <tr>\n",
       "      <th>1</th>\n",
       "      <td>8842281e1d1347389f2ab93d60773d4d</td>\n",
       "      <td>16981</td>\n",
       "      <td>a5d2c3628987712d0e05c4f90798eb67</td>\n",
       "      <td>3</td>\n",
       "      <td>Recommended by Don Katz. Avail for free in Dec...</td>\n",
       "      <td>Mon Dec 05 10:46:44 -0800 2016</td>\n",
       "      <td>Wed Mar 22 11:37:04 -0700 2017</td>\n",
       "      <td>NaN</td>\n",
       "      <td>NaN</td>\n",
       "      <td>1</td>\n",
       "      <td>0</td>\n",
       "    </tr>\n",
       "    <tr>\n",
       "      <th>2</th>\n",
       "      <td>8842281e1d1347389f2ab93d60773d4d</td>\n",
       "      <td>28684704</td>\n",
       "      <td>2ede853b14dc4583f96cf5d120af636f</td>\n",
       "      <td>3</td>\n",
       "      <td>A fun, fast paced science fiction thriller. I ...</td>\n",
       "      <td>Tue Nov 15 11:29:22 -0800 2016</td>\n",
       "      <td>Mon Mar 20 23:40:27 -0700 2017</td>\n",
       "      <td>Sat Mar 18 23:22:42 -0700 2017</td>\n",
       "      <td>Fri Mar 17 23:45:40 -0700 2017</td>\n",
       "      <td>22</td>\n",
       "      <td>0</td>\n",
       "    </tr>\n",
       "    <tr>\n",
       "      <th>3</th>\n",
       "      <td>8842281e1d1347389f2ab93d60773d4d</td>\n",
       "      <td>27161156</td>\n",
       "      <td>ced5675e55cd9d38a524743f5c40996e</td>\n",
       "      <td>0</td>\n",
       "      <td>Recommended reading to understand what is goin...</td>\n",
       "      <td>Wed Nov 09 17:37:04 -0800 2016</td>\n",
       "      <td>Wed Nov 09 17:38:20 -0800 2016</td>\n",
       "      <td>NaN</td>\n",
       "      <td>NaN</td>\n",
       "      <td>5</td>\n",
       "      <td>1</td>\n",
       "    </tr>\n",
       "    <tr>\n",
       "      <th>4</th>\n",
       "      <td>8842281e1d1347389f2ab93d60773d4d</td>\n",
       "      <td>25884323</td>\n",
       "      <td>332732725863131279a8e345b63ac33e</td>\n",
       "      <td>4</td>\n",
       "      <td>I really enjoyed this book, and there is a lot...</td>\n",
       "      <td>Mon Apr 25 09:31:23 -0700 2016</td>\n",
       "      <td>Mon Apr 25 09:31:23 -0700 2016</td>\n",
       "      <td>Sun Jun 26 00:00:00 -0700 2016</td>\n",
       "      <td>Sat May 28 00:00:00 -0700 2016</td>\n",
       "      <td>9</td>\n",
       "      <td>1</td>\n",
       "    </tr>\n",
       "  </tbody>\n",
       "</table>\n",
       "</div>"
      ],
      "text/plain": [
       "                            user_id   book_id  \\\n",
       "0  8842281e1d1347389f2ab93d60773d4d  18245960   \n",
       "1  8842281e1d1347389f2ab93d60773d4d     16981   \n",
       "2  8842281e1d1347389f2ab93d60773d4d  28684704   \n",
       "3  8842281e1d1347389f2ab93d60773d4d  27161156   \n",
       "4  8842281e1d1347389f2ab93d60773d4d  25884323   \n",
       "\n",
       "                          review_id  rating  \\\n",
       "0  dfdbb7b0eb5a7e4c26d59a937e2e5feb       5   \n",
       "1  a5d2c3628987712d0e05c4f90798eb67       3   \n",
       "2  2ede853b14dc4583f96cf5d120af636f       3   \n",
       "3  ced5675e55cd9d38a524743f5c40996e       0   \n",
       "4  332732725863131279a8e345b63ac33e       4   \n",
       "\n",
       "                                         review_text  \\\n",
       "0  This is a special book. It started slow for ab...   \n",
       "1  Recommended by Don Katz. Avail for free in Dec...   \n",
       "2  A fun, fast paced science fiction thriller. I ...   \n",
       "3  Recommended reading to understand what is goin...   \n",
       "4  I really enjoyed this book, and there is a lot...   \n",
       "\n",
       "                       date_added                    date_updated  \\\n",
       "0  Sun Jul 30 07:44:10 -0700 2017  Wed Aug 30 00:00:26 -0700 2017   \n",
       "1  Mon Dec 05 10:46:44 -0800 2016  Wed Mar 22 11:37:04 -0700 2017   \n",
       "2  Tue Nov 15 11:29:22 -0800 2016  Mon Mar 20 23:40:27 -0700 2017   \n",
       "3  Wed Nov 09 17:37:04 -0800 2016  Wed Nov 09 17:38:20 -0800 2016   \n",
       "4  Mon Apr 25 09:31:23 -0700 2016  Mon Apr 25 09:31:23 -0700 2016   \n",
       "\n",
       "                          read_at                      started_at  n_votes  \\\n",
       "0  Sat Aug 26 12:05:52 -0700 2017  Tue Aug 15 13:23:18 -0700 2017       28   \n",
       "1                             NaN                             NaN        1   \n",
       "2  Sat Mar 18 23:22:42 -0700 2017  Fri Mar 17 23:45:40 -0700 2017       22   \n",
       "3                             NaN                             NaN        5   \n",
       "4  Sun Jun 26 00:00:00 -0700 2016  Sat May 28 00:00:00 -0700 2016        9   \n",
       "\n",
       "   n_comments  \n",
       "0           1  \n",
       "1           0  \n",
       "2           0  \n",
       "3           1  \n",
       "4           1  "
      ]
     },
     "execution_count": 2,
     "metadata": {},
     "output_type": "execute_result"
    }
   ],
   "source": [
    "train_data = pd.read_csv('../input/goodreads-books-reviews-290312/goodreads_train.csv')\n",
    "train_data.head()"
   ]
  },
  {
   "cell_type": "code",
   "execution_count": 3,
   "id": "090c024c",
   "metadata": {
    "execution": {
     "iopub.execute_input": "2022-08-27T16:40:33.081039Z",
     "iopub.status.busy": "2022-08-27T16:40:33.080635Z",
     "iopub.status.idle": "2022-08-27T16:40:33.087961Z",
     "shell.execute_reply": "2022-08-27T16:40:33.086695Z"
    },
    "papermill": {
     "duration": 0.028317,
     "end_time": "2022-08-27T16:40:33.090625",
     "exception": false,
     "start_time": "2022-08-27T16:40:33.062308",
     "status": "completed"
    },
    "tags": []
   },
   "outputs": [
    {
     "data": {
      "text/plain": [
       "(900000, 11)"
      ]
     },
     "execution_count": 3,
     "metadata": {},
     "output_type": "execute_result"
    }
   ],
   "source": [
    "train_data.shape"
   ]
  },
  {
   "cell_type": "code",
   "execution_count": 4,
   "id": "57312a12",
   "metadata": {
    "execution": {
     "iopub.execute_input": "2022-08-27T16:40:33.124304Z",
     "iopub.status.busy": "2022-08-27T16:40:33.123909Z",
     "iopub.status.idle": "2022-08-27T16:40:33.497919Z",
     "shell.execute_reply": "2022-08-27T16:40:33.496596Z"
    },
    "papermill": {
     "duration": 0.39404,
     "end_time": "2022-08-27T16:40:33.500593",
     "exception": false,
     "start_time": "2022-08-27T16:40:33.106553",
     "status": "completed"
    },
    "tags": []
   },
   "outputs": [
    {
     "data": {
      "text/plain": [
       "user_id         False\n",
       "book_id         False\n",
       "review_id       False\n",
       "rating          False\n",
       "review_text     False\n",
       "date_added      False\n",
       "date_updated    False\n",
       "read_at          True\n",
       "started_at       True\n",
       "n_votes         False\n",
       "n_comments      False\n",
       "dtype: bool"
      ]
     },
     "execution_count": 4,
     "metadata": {},
     "output_type": "execute_result"
    }
   ],
   "source": [
    "train_data.isnull().any()"
   ]
  },
  {
   "cell_type": "markdown",
   "id": "f503ba28",
   "metadata": {
    "papermill": {
     "duration": 0.015849,
     "end_time": "2022-08-27T16:40:33.532945",
     "exception": false,
     "start_time": "2022-08-27T16:40:33.517096",
     "status": "completed"
    },
    "tags": []
   },
   "source": [
    "### The number of users"
   ]
  },
  {
   "cell_type": "code",
   "execution_count": 5,
   "id": "ad74ba8b",
   "metadata": {
    "execution": {
     "iopub.execute_input": "2022-08-27T16:40:33.568144Z",
     "iopub.status.busy": "2022-08-27T16:40:33.566780Z",
     "iopub.status.idle": "2022-08-27T16:40:33.686779Z",
     "shell.execute_reply": "2022-08-27T16:40:33.685475Z"
    },
    "papermill": {
     "duration": 0.1402,
     "end_time": "2022-08-27T16:40:33.689446",
     "exception": false,
     "start_time": "2022-08-27T16:40:33.549246",
     "status": "completed"
    },
    "tags": []
   },
   "outputs": [
    {
     "data": {
      "text/plain": [
       "12188"
      ]
     },
     "execution_count": 5,
     "metadata": {},
     "output_type": "execute_result"
    }
   ],
   "source": [
    "train_data['user_id'].nunique()"
   ]
  },
  {
   "cell_type": "markdown",
   "id": "55a9e131",
   "metadata": {
    "papermill": {
     "duration": 0.015857,
     "end_time": "2022-08-27T16:40:33.721633",
     "exception": false,
     "start_time": "2022-08-27T16:40:33.705776",
     "status": "completed"
    },
    "tags": []
   },
   "source": [
    "### The number of books"
   ]
  },
  {
   "cell_type": "code",
   "execution_count": 6,
   "id": "a1d1c082",
   "metadata": {
    "execution": {
     "iopub.execute_input": "2022-08-27T16:40:33.755566Z",
     "iopub.status.busy": "2022-08-27T16:40:33.755128Z",
     "iopub.status.idle": "2022-08-27T16:40:33.791196Z",
     "shell.execute_reply": "2022-08-27T16:40:33.790216Z"
    },
    "papermill": {
     "duration": 0.056302,
     "end_time": "2022-08-27T16:40:33.793833",
     "exception": false,
     "start_time": "2022-08-27T16:40:33.737531",
     "status": "completed"
    },
    "tags": []
   },
   "outputs": [
    {
     "data": {
      "text/plain": [
       "25474"
      ]
     },
     "execution_count": 6,
     "metadata": {},
     "output_type": "execute_result"
    }
   ],
   "source": [
    "train_data['book_id'].nunique()"
   ]
  },
  {
   "cell_type": "markdown",
   "id": "a88f4908",
   "metadata": {
    "papermill": {
     "duration": 0.015882,
     "end_time": "2022-08-27T16:40:33.826052",
     "exception": false,
     "start_time": "2022-08-27T16:40:33.810170",
     "status": "completed"
    },
    "tags": []
   },
   "source": [
    "### The number of reviews is the same as the data"
   ]
  },
  {
   "cell_type": "code",
   "execution_count": 7,
   "id": "805df7a4",
   "metadata": {
    "execution": {
     "iopub.execute_input": "2022-08-27T16:40:33.861279Z",
     "iopub.status.busy": "2022-08-27T16:40:33.859955Z",
     "iopub.status.idle": "2022-08-27T16:40:34.192467Z",
     "shell.execute_reply": "2022-08-27T16:40:34.190586Z"
    },
    "papermill": {
     "duration": 0.354275,
     "end_time": "2022-08-27T16:40:34.196516",
     "exception": false,
     "start_time": "2022-08-27T16:40:33.842241",
     "status": "completed"
    },
    "tags": []
   },
   "outputs": [
    {
     "data": {
      "text/plain": [
       "900000"
      ]
     },
     "execution_count": 7,
     "metadata": {},
     "output_type": "execute_result"
    }
   ],
   "source": [
    "train_data['review_id'].nunique()"
   ]
  },
  {
   "cell_type": "markdown",
   "id": "f94b83d6",
   "metadata": {
    "papermill": {
     "duration": 0.016115,
     "end_time": "2022-08-27T16:40:34.229365",
     "exception": false,
     "start_time": "2022-08-27T16:40:34.213250",
     "status": "completed"
    },
    "tags": []
   },
   "source": [
    "### Removing the columns we are not going to use"
   ]
  },
  {
   "cell_type": "code",
   "execution_count": 8,
   "id": "964246ef",
   "metadata": {
    "execution": {
     "iopub.execute_input": "2022-08-27T16:40:34.264161Z",
     "iopub.status.busy": "2022-08-27T16:40:34.263726Z",
     "iopub.status.idle": "2022-08-27T16:40:34.348409Z",
     "shell.execute_reply": "2022-08-27T16:40:34.347257Z"
    },
    "papermill": {
     "duration": 0.105591,
     "end_time": "2022-08-27T16:40:34.351314",
     "exception": false,
     "start_time": "2022-08-27T16:40:34.245723",
     "status": "completed"
    },
    "tags": []
   },
   "outputs": [
    {
     "data": {
      "text/html": [
       "<div>\n",
       "<style scoped>\n",
       "    .dataframe tbody tr th:only-of-type {\n",
       "        vertical-align: middle;\n",
       "    }\n",
       "\n",
       "    .dataframe tbody tr th {\n",
       "        vertical-align: top;\n",
       "    }\n",
       "\n",
       "    .dataframe thead th {\n",
       "        text-align: right;\n",
       "    }\n",
       "</style>\n",
       "<table border=\"1\" class=\"dataframe\">\n",
       "  <thead>\n",
       "    <tr style=\"text-align: right;\">\n",
       "      <th></th>\n",
       "      <th>user_id</th>\n",
       "      <th>book_id</th>\n",
       "      <th>review_id</th>\n",
       "      <th>rating</th>\n",
       "      <th>review_text</th>\n",
       "      <th>n_votes</th>\n",
       "      <th>n_comments</th>\n",
       "    </tr>\n",
       "  </thead>\n",
       "  <tbody>\n",
       "    <tr>\n",
       "      <th>0</th>\n",
       "      <td>8842281e1d1347389f2ab93d60773d4d</td>\n",
       "      <td>18245960</td>\n",
       "      <td>dfdbb7b0eb5a7e4c26d59a937e2e5feb</td>\n",
       "      <td>5</td>\n",
       "      <td>This is a special book. It started slow for ab...</td>\n",
       "      <td>28</td>\n",
       "      <td>1</td>\n",
       "    </tr>\n",
       "    <tr>\n",
       "      <th>1</th>\n",
       "      <td>8842281e1d1347389f2ab93d60773d4d</td>\n",
       "      <td>16981</td>\n",
       "      <td>a5d2c3628987712d0e05c4f90798eb67</td>\n",
       "      <td>3</td>\n",
       "      <td>Recommended by Don Katz. Avail for free in Dec...</td>\n",
       "      <td>1</td>\n",
       "      <td>0</td>\n",
       "    </tr>\n",
       "    <tr>\n",
       "      <th>2</th>\n",
       "      <td>8842281e1d1347389f2ab93d60773d4d</td>\n",
       "      <td>28684704</td>\n",
       "      <td>2ede853b14dc4583f96cf5d120af636f</td>\n",
       "      <td>3</td>\n",
       "      <td>A fun, fast paced science fiction thriller. I ...</td>\n",
       "      <td>22</td>\n",
       "      <td>0</td>\n",
       "    </tr>\n",
       "    <tr>\n",
       "      <th>3</th>\n",
       "      <td>8842281e1d1347389f2ab93d60773d4d</td>\n",
       "      <td>27161156</td>\n",
       "      <td>ced5675e55cd9d38a524743f5c40996e</td>\n",
       "      <td>0</td>\n",
       "      <td>Recommended reading to understand what is goin...</td>\n",
       "      <td>5</td>\n",
       "      <td>1</td>\n",
       "    </tr>\n",
       "    <tr>\n",
       "      <th>4</th>\n",
       "      <td>8842281e1d1347389f2ab93d60773d4d</td>\n",
       "      <td>25884323</td>\n",
       "      <td>332732725863131279a8e345b63ac33e</td>\n",
       "      <td>4</td>\n",
       "      <td>I really enjoyed this book, and there is a lot...</td>\n",
       "      <td>9</td>\n",
       "      <td>1</td>\n",
       "    </tr>\n",
       "  </tbody>\n",
       "</table>\n",
       "</div>"
      ],
      "text/plain": [
       "                            user_id   book_id  \\\n",
       "0  8842281e1d1347389f2ab93d60773d4d  18245960   \n",
       "1  8842281e1d1347389f2ab93d60773d4d     16981   \n",
       "2  8842281e1d1347389f2ab93d60773d4d  28684704   \n",
       "3  8842281e1d1347389f2ab93d60773d4d  27161156   \n",
       "4  8842281e1d1347389f2ab93d60773d4d  25884323   \n",
       "\n",
       "                          review_id  rating  \\\n",
       "0  dfdbb7b0eb5a7e4c26d59a937e2e5feb       5   \n",
       "1  a5d2c3628987712d0e05c4f90798eb67       3   \n",
       "2  2ede853b14dc4583f96cf5d120af636f       3   \n",
       "3  ced5675e55cd9d38a524743f5c40996e       0   \n",
       "4  332732725863131279a8e345b63ac33e       4   \n",
       "\n",
       "                                         review_text  n_votes  n_comments  \n",
       "0  This is a special book. It started slow for ab...       28           1  \n",
       "1  Recommended by Don Katz. Avail for free in Dec...        1           0  \n",
       "2  A fun, fast paced science fiction thriller. I ...       22           0  \n",
       "3  Recommended reading to understand what is goin...        5           1  \n",
       "4  I really enjoyed this book, and there is a lot...        9           1  "
      ]
     },
     "execution_count": 8,
     "metadata": {},
     "output_type": "execute_result"
    }
   ],
   "source": [
    "train_data.drop(['date_added','date_updated','read_at','started_at'],axis=1, inplace=True)\n",
    "train_data.head()"
   ]
  },
  {
   "cell_type": "code",
   "execution_count": 9,
   "id": "af283173",
   "metadata": {
    "execution": {
     "iopub.execute_input": "2022-08-27T16:40:34.387474Z",
     "iopub.status.busy": "2022-08-27T16:40:34.386701Z",
     "iopub.status.idle": "2022-08-27T16:40:34.603896Z",
     "shell.execute_reply": "2022-08-27T16:40:34.602506Z"
    },
    "papermill": {
     "duration": 0.238492,
     "end_time": "2022-08-27T16:40:34.606876",
     "exception": false,
     "start_time": "2022-08-27T16:40:34.368384",
     "status": "completed"
    },
    "tags": []
   },
   "outputs": [
    {
     "data": {
      "image/png": "[encoded data removed]",
      "text/plain": [
       "<Figure size 432x288 with 1 Axes>"
      ]
     },
     "metadata": {
      "needs_background": "light"
     },
     "output_type": "display_data"
    }
   ],
   "source": [
    "fig, ax = plt.subplots()\n",
    "\n",
    "ax.hist(train_data['rating'], bins=5)\n",
    "plt.show()"
   ]
  },
  {
   "cell_type": "code",
   "execution_count": 10,
   "id": "87c24762",
   "metadata": {
    "execution": {
     "iopub.execute_input": "2022-08-27T16:40:34.644205Z",
     "iopub.status.busy": "2022-08-27T16:40:34.642929Z",
     "iopub.status.idle": "2022-08-27T16:40:34.791958Z",
     "shell.execute_reply": "2022-08-27T16:40:34.790706Z"
    },
    "papermill": {
     "duration": 0.170323,
     "end_time": "2022-08-27T16:40:34.794328",
     "exception": false,
     "start_time": "2022-08-27T16:40:34.624005",
     "status": "completed"
    },
    "tags": []
   },
   "outputs": [
    {
     "data": {
      "text/html": [
       "<div>\n",
       "<style scoped>\n",
       "    .dataframe tbody tr th:only-of-type {\n",
       "        vertical-align: middle;\n",
       "    }\n",
       "\n",
       "    .dataframe tbody tr th {\n",
       "        vertical-align: top;\n",
       "    }\n",
       "\n",
       "    .dataframe thead th {\n",
       "        text-align: right;\n",
       "    }\n",
       "</style>\n",
       "<table border=\"1\" class=\"dataframe\">\n",
       "  <thead>\n",
       "    <tr style=\"text-align: right;\">\n",
       "      <th></th>\n",
       "      <th>book_id</th>\n",
       "      <th>rating</th>\n",
       "      <th>n_votes</th>\n",
       "      <th>n_comments</th>\n",
       "    </tr>\n",
       "  </thead>\n",
       "  <tbody>\n",
       "    <tr>\n",
       "      <th>count</th>\n",
       "      <td>9.000000e+05</td>\n",
       "      <td>900000.000000</td>\n",
       "      <td>900000.000000</td>\n",
       "      <td>900000.000000</td>\n",
       "    </tr>\n",
       "    <tr>\n",
       "      <th>mean</th>\n",
       "      <td>1.344145e+07</td>\n",
       "      <td>3.689639</td>\n",
       "      <td>3.294381</td>\n",
       "      <td>1.016656</td>\n",
       "    </tr>\n",
       "    <tr>\n",
       "      <th>std</th>\n",
       "      <td>9.357863e+06</td>\n",
       "      <td>1.252583</td>\n",
       "      <td>17.873553</td>\n",
       "      <td>5.963821</td>\n",
       "    </tr>\n",
       "    <tr>\n",
       "      <th>min</th>\n",
       "      <td>1.000000e+00</td>\n",
       "      <td>0.000000</td>\n",
       "      <td>-3.000000</td>\n",
       "      <td>-1.000000</td>\n",
       "    </tr>\n",
       "    <tr>\n",
       "      <th>25%</th>\n",
       "      <td>6.340471e+06</td>\n",
       "      <td>3.000000</td>\n",
       "      <td>0.000000</td>\n",
       "      <td>0.000000</td>\n",
       "    </tr>\n",
       "    <tr>\n",
       "      <th>50%</th>\n",
       "      <td>1.344203e+07</td>\n",
       "      <td>4.000000</td>\n",
       "      <td>0.000000</td>\n",
       "      <td>0.000000</td>\n",
       "    </tr>\n",
       "    <tr>\n",
       "      <th>75%</th>\n",
       "      <td>2.057897e+07</td>\n",
       "      <td>5.000000</td>\n",
       "      <td>2.000000</td>\n",
       "      <td>0.000000</td>\n",
       "    </tr>\n",
       "    <tr>\n",
       "      <th>max</th>\n",
       "      <td>3.632868e+07</td>\n",
       "      <td>5.000000</td>\n",
       "      <td>3222.000000</td>\n",
       "      <td>1335.000000</td>\n",
       "    </tr>\n",
       "  </tbody>\n",
       "</table>\n",
       "</div>"
      ],
      "text/plain": [
       "            book_id         rating        n_votes     n_comments\n",
       "count  9.000000e+05  900000.000000  900000.000000  900000.000000\n",
       "mean   1.344145e+07       3.689639       3.294381       1.016656\n",
       "std    9.357863e+06       1.252583      17.873553       5.963821\n",
       "min    1.000000e+00       0.000000      -3.000000      -1.000000\n",
       "25%    6.340471e+06       3.000000       0.000000       0.000000\n",
       "50%    1.344203e+07       4.000000       0.000000       0.000000\n",
       "75%    2.057897e+07       5.000000       2.000000       0.000000\n",
       "max    3.632868e+07       5.000000    3222.000000    1335.000000"
      ]
     },
     "execution_count": 10,
     "metadata": {},
     "output_type": "execute_result"
    }
   ],
   "source": [
    "train_data.describe()"
   ]
  },
  {
   "cell_type": "code",
   "execution_count": 11,
   "id": "df11b4df",
   "metadata": {
    "execution": {
     "iopub.execute_input": "2022-08-27T16:40:34.830727Z",
     "iopub.status.busy": "2022-08-27T16:40:34.830179Z",
     "iopub.status.idle": "2022-08-27T16:40:35.304886Z",
     "shell.execute_reply": "2022-08-27T16:40:35.303563Z"
    },
    "papermill": {
     "duration": 0.49636,
     "end_time": "2022-08-27T16:40:35.307660",
     "exception": false,
     "start_time": "2022-08-27T16:40:34.811300",
     "status": "completed"
    },
    "tags": []
   },
   "outputs": [
    {
     "data": {
      "text/html": [
       "<div>\n",
       "<style scoped>\n",
       "    .dataframe tbody tr th:only-of-type {\n",
       "        vertical-align: middle;\n",
       "    }\n",
       "\n",
       "    .dataframe tbody tr th {\n",
       "        vertical-align: top;\n",
       "    }\n",
       "\n",
       "    .dataframe thead tr th {\n",
       "        text-align: left;\n",
       "    }\n",
       "\n",
       "    .dataframe thead tr:last-of-type th {\n",
       "        text-align: right;\n",
       "    }\n",
       "</style>\n",
       "<table border=\"1\" class=\"dataframe\">\n",
       "  <thead>\n",
       "    <tr>\n",
       "      <th></th>\n",
       "      <th colspan=\"8\" halign=\"left\">book_id</th>\n",
       "      <th colspan=\"5\" halign=\"left\">n_votes</th>\n",
       "      <th colspan=\"8\" halign=\"left\">n_comments</th>\n",
       "    </tr>\n",
       "    <tr>\n",
       "      <th></th>\n",
       "      <th>count</th>\n",
       "      <th>mean</th>\n",
       "      <th>std</th>\n",
       "      <th>min</th>\n",
       "      <th>25%</th>\n",
       "      <th>50%</th>\n",
       "      <th>75%</th>\n",
       "      <th>max</th>\n",
       "      <th>count</th>\n",
       "      <th>mean</th>\n",
       "      <th>...</th>\n",
       "      <th>75%</th>\n",
       "      <th>max</th>\n",
       "      <th>count</th>\n",
       "      <th>mean</th>\n",
       "      <th>std</th>\n",
       "      <th>min</th>\n",
       "      <th>25%</th>\n",
       "      <th>50%</th>\n",
       "      <th>75%</th>\n",
       "      <th>max</th>\n",
       "    </tr>\n",
       "    <tr>\n",
       "      <th>rating</th>\n",
       "      <th></th>\n",
       "      <th></th>\n",
       "      <th></th>\n",
       "      <th></th>\n",
       "      <th></th>\n",
       "      <th></th>\n",
       "      <th></th>\n",
       "      <th></th>\n",
       "      <th></th>\n",
       "      <th></th>\n",
       "      <th></th>\n",
       "      <th></th>\n",
       "      <th></th>\n",
       "      <th></th>\n",
       "      <th></th>\n",
       "      <th></th>\n",
       "      <th></th>\n",
       "      <th></th>\n",
       "      <th></th>\n",
       "      <th></th>\n",
       "      <th></th>\n",
       "    </tr>\n",
       "  </thead>\n",
       "  <tbody>\n",
       "    <tr>\n",
       "      <th>0</th>\n",
       "      <td>30988.0</td>\n",
       "      <td>1.531129e+07</td>\n",
       "      <td>9.680614e+06</td>\n",
       "      <td>1.0</td>\n",
       "      <td>7959280.25</td>\n",
       "      <td>16075939.0</td>\n",
       "      <td>23127500.0</td>\n",
       "      <td>36328685.0</td>\n",
       "      <td>30988.0</td>\n",
       "      <td>4.319349</td>\n",
       "      <td>...</td>\n",
       "      <td>2.0</td>\n",
       "      <td>1156.0</td>\n",
       "      <td>30988.0</td>\n",
       "      <td>1.432458</td>\n",
       "      <td>11.662875</td>\n",
       "      <td>0.0</td>\n",
       "      <td>0.0</td>\n",
       "      <td>0.0</td>\n",
       "      <td>0.0</td>\n",
       "      <td>1335.0</td>\n",
       "    </tr>\n",
       "    <tr>\n",
       "      <th>1</th>\n",
       "      <td>28718.0</td>\n",
       "      <td>1.204804e+07</td>\n",
       "      <td>9.237494e+06</td>\n",
       "      <td>1.0</td>\n",
       "      <td>2738193.50</td>\n",
       "      <td>11857408.0</td>\n",
       "      <td>18339662.0</td>\n",
       "      <td>36158863.0</td>\n",
       "      <td>28718.0</td>\n",
       "      <td>5.960513</td>\n",
       "      <td>...</td>\n",
       "      <td>2.0</td>\n",
       "      <td>2549.0</td>\n",
       "      <td>28718.0</td>\n",
       "      <td>2.047566</td>\n",
       "      <td>11.584845</td>\n",
       "      <td>-1.0</td>\n",
       "      <td>0.0</td>\n",
       "      <td>0.0</td>\n",
       "      <td>0.0</td>\n",
       "      <td>564.0</td>\n",
       "    </tr>\n",
       "    <tr>\n",
       "      <th>2</th>\n",
       "      <td>72627.0</td>\n",
       "      <td>1.261558e+07</td>\n",
       "      <td>9.272870e+06</td>\n",
       "      <td>1.0</td>\n",
       "      <td>5060378.00</td>\n",
       "      <td>12578294.0</td>\n",
       "      <td>18710190.0</td>\n",
       "      <td>36252773.0</td>\n",
       "      <td>72627.0</td>\n",
       "      <td>3.015600</td>\n",
       "      <td>...</td>\n",
       "      <td>1.0</td>\n",
       "      <td>2245.0</td>\n",
       "      <td>72627.0</td>\n",
       "      <td>1.070690</td>\n",
       "      <td>6.673441</td>\n",
       "      <td>-1.0</td>\n",
       "      <td>0.0</td>\n",
       "      <td>0.0</td>\n",
       "      <td>0.0</td>\n",
       "      <td>655.0</td>\n",
       "    </tr>\n",
       "    <tr>\n",
       "      <th>3</th>\n",
       "      <td>188972.0</td>\n",
       "      <td>1.284973e+07</td>\n",
       "      <td>9.317546e+06</td>\n",
       "      <td>1.0</td>\n",
       "      <td>5618698.00</td>\n",
       "      <td>12924279.0</td>\n",
       "      <td>19090384.0</td>\n",
       "      <td>36252773.0</td>\n",
       "      <td>188972.0</td>\n",
       "      <td>2.174555</td>\n",
       "      <td>...</td>\n",
       "      <td>1.0</td>\n",
       "      <td>1710.0</td>\n",
       "      <td>188972.0</td>\n",
       "      <td>0.685461</td>\n",
       "      <td>3.931856</td>\n",
       "      <td>-1.0</td>\n",
       "      <td>0.0</td>\n",
       "      <td>0.0</td>\n",
       "      <td>0.0</td>\n",
       "      <td>448.0</td>\n",
       "    </tr>\n",
       "    <tr>\n",
       "      <th>4</th>\n",
       "      <td>313688.0</td>\n",
       "      <td>1.354658e+07</td>\n",
       "      <td>9.343166e+06</td>\n",
       "      <td>1.0</td>\n",
       "      <td>6430659.00</td>\n",
       "      <td>13481275.0</td>\n",
       "      <td>20640755.0</td>\n",
       "      <td>36328685.0</td>\n",
       "      <td>313688.0</td>\n",
       "      <td>2.926660</td>\n",
       "      <td>...</td>\n",
       "      <td>2.0</td>\n",
       "      <td>2333.0</td>\n",
       "      <td>313688.0</td>\n",
       "      <td>0.870923</td>\n",
       "      <td>4.711809</td>\n",
       "      <td>-1.0</td>\n",
       "      <td>0.0</td>\n",
       "      <td>0.0</td>\n",
       "      <td>0.0</td>\n",
       "      <td>660.0</td>\n",
       "    </tr>\n",
       "    <tr>\n",
       "      <th>5</th>\n",
       "      <td>265007.0</td>\n",
       "      <td>1.389764e+07</td>\n",
       "      <td>9.333513e+06</td>\n",
       "      <td>1.0</td>\n",
       "      <td>6611521.50</td>\n",
       "      <td>13641101.0</td>\n",
       "      <td>20803953.0</td>\n",
       "      <td>36328685.0</td>\n",
       "      <td>265007.0</td>\n",
       "      <td>4.195810</td>\n",
       "      <td>...</td>\n",
       "      <td>2.0</td>\n",
       "      <td>3222.0</td>\n",
       "      <td>265007.0</td>\n",
       "      <td>1.250182</td>\n",
       "      <td>6.367146</td>\n",
       "      <td>0.0</td>\n",
       "      <td>0.0</td>\n",
       "      <td>0.0</td>\n",
       "      <td>0.0</td>\n",
       "      <td>833.0</td>\n",
       "    </tr>\n",
       "  </tbody>\n",
       "</table>\n",
       "<p>6 rows × 24 columns</p>\n",
       "</div>"
      ],
      "text/plain": [
       "         book_id                                                           \\\n",
       "           count          mean           std  min         25%         50%   \n",
       "rating                                                                      \n",
       "0        30988.0  1.531129e+07  9.680614e+06  1.0  7959280.25  16075939.0   \n",
       "1        28718.0  1.204804e+07  9.237494e+06  1.0  2738193.50  11857408.0   \n",
       "2        72627.0  1.261558e+07  9.272870e+06  1.0  5060378.00  12578294.0   \n",
       "3       188972.0  1.284973e+07  9.317546e+06  1.0  5618698.00  12924279.0   \n",
       "4       313688.0  1.354658e+07  9.343166e+06  1.0  6430659.00  13481275.0   \n",
       "5       265007.0  1.389764e+07  9.333513e+06  1.0  6611521.50  13641101.0   \n",
       "\n",
       "                                 n_votes            ...               \\\n",
       "               75%         max     count      mean  ...  75%     max   \n",
       "rating                                              ...                \n",
       "0       23127500.0  36328685.0   30988.0  4.319349  ...  2.0  1156.0   \n",
       "1       18339662.0  36158863.0   28718.0  5.960513  ...  2.0  2549.0   \n",
       "2       18710190.0  36252773.0   72627.0  3.015600  ...  1.0  2245.0   \n",
       "3       19090384.0  36252773.0  188972.0  2.174555  ...  1.0  1710.0   \n",
       "4       20640755.0  36328685.0  313688.0  2.926660  ...  2.0  2333.0   \n",
       "5       20803953.0  36328685.0  265007.0  4.195810  ...  2.0  3222.0   \n",
       "\n",
       "       n_comments                                                   \n",
       "            count      mean        std  min  25%  50%  75%     max  \n",
       "rating                                                              \n",
       "0         30988.0  1.432458  11.662875  0.0  0.0  0.0  0.0  1335.0  \n",
       "1         28718.0  2.047566  11.584845 -1.0  0.0  0.0  0.0   564.0  \n",
       "2         72627.0  1.070690   6.673441 -1.0  0.0  0.0  0.0   655.0  \n",
       "3        188972.0  0.685461   3.931856 -1.0  0.0  0.0  0.0   448.0  \n",
       "4        313688.0  0.870923   4.711809 -1.0  0.0  0.0  0.0   660.0  \n",
       "5        265007.0  1.250182   6.367146  0.0  0.0  0.0  0.0   833.0  \n",
       "\n",
       "[6 rows x 24 columns]"
      ]
     },
     "execution_count": 11,
     "metadata": {},
     "output_type": "execute_result"
    }
   ],
   "source": [
    "train_data.groupby('rating').describe()"
   ]
  },
  {
   "cell_type": "code",
   "execution_count": 12,
   "id": "99a2e10f",
   "metadata": {
    "execution": {
     "iopub.execute_input": "2022-08-27T16:40:35.345403Z",
     "iopub.status.busy": "2022-08-27T16:40:35.344997Z",
     "iopub.status.idle": "2022-08-27T16:40:35.682584Z",
     "shell.execute_reply": "2022-08-27T16:40:35.681335Z"
    },
    "papermill": {
     "duration": 0.359369,
     "end_time": "2022-08-27T16:40:35.685281",
     "exception": false,
     "start_time": "2022-08-27T16:40:35.325912",
     "status": "completed"
    },
    "tags": []
   },
   "outputs": [
    {
     "data": {
      "text/plain": [
       "<AxesSubplot:xlabel='rating', ylabel='Users'>"
      ]
     },
     "execution_count": 12,
     "metadata": {},
     "output_type": "execute_result"
    },
    {
     "data": {
      "image/png": "[encoded data removed]",
      "text/plain": [
       "<Figure size 432x288 with 1 Axes>"
      ]
     },
     "metadata": {
      "needs_background": "light"
     },
     "output_type": "display_data"
    }
   ],
   "source": [
    "train_data.groupby('rating')['user_id'].nunique().plot.bar(ylabel = \"Users\")"
   ]
  },
  {
   "cell_type": "code",
   "execution_count": 13,
   "id": "b77511d9",
   "metadata": {
    "execution": {
     "iopub.execute_input": "2022-08-27T16:40:35.725689Z",
     "iopub.status.busy": "2022-08-27T16:40:35.724937Z",
     "iopub.status.idle": "2022-08-27T16:40:36.121318Z",
     "shell.execute_reply": "2022-08-27T16:40:36.120365Z"
    },
    "papermill": {
     "duration": 0.420734,
     "end_time": "2022-08-27T16:40:36.123963",
     "exception": false,
     "start_time": "2022-08-27T16:40:35.703229",
     "status": "completed"
    },
    "tags": []
   },
   "outputs": [
    {
     "data": {
      "text/plain": [
       "<AxesSubplot:xlabel='rating', ylabel='Books'>"
      ]
     },
     "execution_count": 13,
     "metadata": {},
     "output_type": "execute_result"
    },
    {
     "data": {
      "image/png": "[encoded data removed]",
      "text/plain": [
       "<Figure size 432x288 with 1 Axes>"
      ]
     },
     "metadata": {
      "needs_background": "light"
     },
     "output_type": "display_data"
    }
   ],
   "source": [
    "train_data.groupby('rating')['book_id'].nunique().plot.bar(ylabel = \"Books\")"
   ]
  },
  {
   "cell_type": "code",
   "execution_count": 14,
   "id": "9a0ee02e",
   "metadata": {
    "execution": {
     "iopub.execute_input": "2022-08-27T16:40:36.163206Z",
     "iopub.status.busy": "2022-08-27T16:40:36.162435Z",
     "iopub.status.idle": "2022-08-27T16:40:36.834384Z",
     "shell.execute_reply": "2022-08-27T16:40:36.833193Z"
    },
    "papermill": {
     "duration": 0.694798,
     "end_time": "2022-08-27T16:40:36.837268",
     "exception": false,
     "start_time": "2022-08-27T16:40:36.142470",
     "status": "completed"
    },
    "tags": []
   },
   "outputs": [
    {
     "name": "stderr",
     "output_type": "stream",
     "text": [
      "/opt/conda/lib/python3.7/site-packages/ipykernel_launcher.py:1: FutureWarning: Indexing with multiple keys (implicitly converted to a tuple of keys) will be deprecated, use a list instead.\n",
      "  \"\"\"Entry point for launching an IPython kernel.\n"
     ]
    },
    {
     "data": {
      "text/plain": [
       "<AxesSubplot:xlabel='rating'>"
      ]
     },
     "execution_count": 14,
     "metadata": {},
     "output_type": "execute_result"
    },
    {
     "data": {
      "image/png": "[encoded data removed]",
      "text/plain": [
       "<Figure size 432x288 with 1 Axes>"
      ]
     },
     "metadata": {
      "needs_background": "light"
     },
     "output_type": "display_data"
    }
   ],
   "source": [
    "train_data.groupby('rating')['user_id', 'book_id'].nunique().plot.bar()"
   ]
  },
  {
   "cell_type": "markdown",
   "id": "09c344a9",
   "metadata": {
    "papermill": {
     "duration": 0.018524,
     "end_time": "2022-08-27T16:40:36.874829",
     "exception": false,
     "start_time": "2022-08-27T16:40:36.856305",
     "status": "completed"
    },
    "tags": []
   },
   "source": [
    "### There are negative number of votes"
   ]
  },
  {
   "cell_type": "code",
   "execution_count": 15,
   "id": "986b8489",
   "metadata": {
    "execution": {
     "iopub.execute_input": "2022-08-27T16:40:36.914189Z",
     "iopub.status.busy": "2022-08-27T16:40:36.913778Z",
     "iopub.status.idle": "2022-08-27T16:40:37.145460Z",
     "shell.execute_reply": "2022-08-27T16:40:37.144172Z"
    },
    "papermill": {
     "duration": 0.254546,
     "end_time": "2022-08-27T16:40:37.148236",
     "exception": false,
     "start_time": "2022-08-27T16:40:36.893690",
     "status": "completed"
    },
    "tags": []
   },
   "outputs": [
    {
     "data": {
      "text/html": [
       "<div>\n",
       "<style scoped>\n",
       "    .dataframe tbody tr th:only-of-type {\n",
       "        vertical-align: middle;\n",
       "    }\n",
       "\n",
       "    .dataframe tbody tr th {\n",
       "        vertical-align: top;\n",
       "    }\n",
       "\n",
       "    .dataframe thead th {\n",
       "        text-align: right;\n",
       "    }\n",
       "</style>\n",
       "<table border=\"1\" class=\"dataframe\">\n",
       "  <thead>\n",
       "    <tr style=\"text-align: right;\">\n",
       "      <th></th>\n",
       "      <th>user_id</th>\n",
       "      <th>book_id</th>\n",
       "      <th>review_id</th>\n",
       "      <th>rating</th>\n",
       "      <th>review_text</th>\n",
       "      <th>n_votes</th>\n",
       "      <th>n_comments</th>\n",
       "    </tr>\n",
       "  </thead>\n",
       "  <tbody>\n",
       "    <tr>\n",
       "      <th>110253</th>\n",
       "      <td>9c705d573943f354e90b5d033871e894</td>\n",
       "      <td>59264</td>\n",
       "      <td>eac9389573a0958af0a15fa1ead3e728</td>\n",
       "      <td>5</td>\n",
       "      <td>I'm bored so I'm going to review this #12 \\n R...</td>\n",
       "      <td>-3</td>\n",
       "      <td>1</td>\n",
       "    </tr>\n",
       "    <tr>\n",
       "      <th>542798</th>\n",
       "      <td>25004d7967519f9b8fd4f1fcdec66a8e</td>\n",
       "      <td>20932616</td>\n",
       "      <td>0148ae81f524f7c2d0ab26b3a81e12d4</td>\n",
       "      <td>5</td>\n",
       "      <td>So when I was reading the Tiger series, I didn...</td>\n",
       "      <td>-3</td>\n",
       "      <td>0</td>\n",
       "    </tr>\n",
       "    <tr>\n",
       "      <th>732439</th>\n",
       "      <td>22a2017d28bad8b866860210c8746f0e</td>\n",
       "      <td>22447220</td>\n",
       "      <td>e291704f262f9eb4328de9b938a3d765</td>\n",
       "      <td>5</td>\n",
       "      <td>Oh, that moment when you realize: I'm done. Th...</td>\n",
       "      <td>-2</td>\n",
       "      <td>1</td>\n",
       "    </tr>\n",
       "    <tr>\n",
       "      <th>542324</th>\n",
       "      <td>13f9e9579267823286ab0c307b6f8a70</td>\n",
       "      <td>11918</td>\n",
       "      <td>a8c166fc0beddaa3dfb8a5da59ddb189</td>\n",
       "      <td>4</td>\n",
       "      <td>I love this book - possibly my favorite of all...</td>\n",
       "      <td>-2</td>\n",
       "      <td>0</td>\n",
       "    </tr>\n",
       "    <tr>\n",
       "      <th>215484</th>\n",
       "      <td>d91b6d7a69d077299f160925ff777be4</td>\n",
       "      <td>16085457</td>\n",
       "      <td>8ac49bd0429ba37f14652cb5344acb8e</td>\n",
       "      <td>5</td>\n",
       "      <td>A satisfying conclusion</td>\n",
       "      <td>-2</td>\n",
       "      <td>0</td>\n",
       "    </tr>\n",
       "    <tr>\n",
       "      <th>...</th>\n",
       "      <td>...</td>\n",
       "      <td>...</td>\n",
       "      <td>...</td>\n",
       "      <td>...</td>\n",
       "      <td>...</td>\n",
       "      <td>...</td>\n",
       "      <td>...</td>\n",
       "    </tr>\n",
       "    <tr>\n",
       "      <th>510984</th>\n",
       "      <td>8cf5e7b479644265868bd08e8f64b622</td>\n",
       "      <td>8667848</td>\n",
       "      <td>03361c23fbf3cc68cedbe08f920f36fe</td>\n",
       "      <td>1</td>\n",
       "      <td>okay, so the good things: I liked the world/my...</td>\n",
       "      <td>2252</td>\n",
       "      <td>509</td>\n",
       "    </tr>\n",
       "    <tr>\n",
       "      <th>879300</th>\n",
       "      <td>114d8821adeb988a240b9ec4c68078a0</td>\n",
       "      <td>29056083</td>\n",
       "      <td>bb1641ff2401ea6b24c690d224a51f1d</td>\n",
       "      <td>4</td>\n",
       "      <td>It was alright. It was just alright. \\n I know...</td>\n",
       "      <td>2333</td>\n",
       "      <td>160</td>\n",
       "    </tr>\n",
       "    <tr>\n",
       "      <th>436726</th>\n",
       "      <td>f18811ea6ea82ee427be7ebeef1050da</td>\n",
       "      <td>29056083</td>\n",
       "      <td>1dd32ab0bb1a0f7545390ed69d149573</td>\n",
       "      <td>1</td>\n",
       "      <td>Ok wow where do I even begin with this. \\n My ...</td>\n",
       "      <td>2549</td>\n",
       "      <td>229</td>\n",
       "    </tr>\n",
       "    <tr>\n",
       "      <th>608100</th>\n",
       "      <td>abc4a0147e00cf29d7a9d865ecdf160c</td>\n",
       "      <td>18405388</td>\n",
       "      <td>525e2bd48ae0d40301c33350aaaf790a</td>\n",
       "      <td>5</td>\n",
       "      <td>So listen. Look. I am a READER, right? I mean,...</td>\n",
       "      <td>3167</td>\n",
       "      <td>537</td>\n",
       "    </tr>\n",
       "    <tr>\n",
       "      <th>818796</th>\n",
       "      <td>e5645006eb9dc54b37c742ec842e3ec9</td>\n",
       "      <td>19063</td>\n",
       "      <td>367c567e971789167e8556f89451d115</td>\n",
       "      <td>5</td>\n",
       "      <td>I give this 5 stars, BUT there is a disclaimer...</td>\n",
       "      <td>3222</td>\n",
       "      <td>172</td>\n",
       "    </tr>\n",
       "  </tbody>\n",
       "</table>\n",
       "<p>900000 rows × 7 columns</p>\n",
       "</div>"
      ],
      "text/plain": [
       "                                 user_id   book_id  \\\n",
       "110253  9c705d573943f354e90b5d033871e894     59264   \n",
       "542798  25004d7967519f9b8fd4f1fcdec66a8e  20932616   \n",
       "732439  22a2017d28bad8b866860210c8746f0e  22447220   \n",
       "542324  13f9e9579267823286ab0c307b6f8a70     11918   \n",
       "215484  d91b6d7a69d077299f160925ff777be4  16085457   \n",
       "...                                  ...       ...   \n",
       "510984  8cf5e7b479644265868bd08e8f64b622   8667848   \n",
       "879300  114d8821adeb988a240b9ec4c68078a0  29056083   \n",
       "436726  f18811ea6ea82ee427be7ebeef1050da  29056083   \n",
       "608100  abc4a0147e00cf29d7a9d865ecdf160c  18405388   \n",
       "818796  e5645006eb9dc54b37c742ec842e3ec9     19063   \n",
       "\n",
       "                               review_id  rating  \\\n",
       "110253  eac9389573a0958af0a15fa1ead3e728       5   \n",
       "542798  0148ae81f524f7c2d0ab26b3a81e12d4       5   \n",
       "732439  e291704f262f9eb4328de9b938a3d765       5   \n",
       "542324  a8c166fc0beddaa3dfb8a5da59ddb189       4   \n",
       "215484  8ac49bd0429ba37f14652cb5344acb8e       5   \n",
       "...                                  ...     ...   \n",
       "510984  03361c23fbf3cc68cedbe08f920f36fe       1   \n",
       "879300  bb1641ff2401ea6b24c690d224a51f1d       4   \n",
       "436726  1dd32ab0bb1a0f7545390ed69d149573       1   \n",
       "608100  525e2bd48ae0d40301c33350aaaf790a       5   \n",
       "818796  367c567e971789167e8556f89451d115       5   \n",
       "\n",
       "                                              review_text  n_votes  n_comments  \n",
       "110253  I'm bored so I'm going to review this #12 \\n R...       -3           1  \n",
       "542798  So when I was reading the Tiger series, I didn...       -3           0  \n",
       "732439  Oh, that moment when you realize: I'm done. Th...       -2           1  \n",
       "542324  I love this book - possibly my favorite of all...       -2           0  \n",
       "215484                            A satisfying conclusion       -2           0  \n",
       "...                                                   ...      ...         ...  \n",
       "510984  okay, so the good things: I liked the world/my...     2252         509  \n",
       "879300  It was alright. It was just alright. \\n I know...     2333         160  \n",
       "436726  Ok wow where do I even begin with this. \\n My ...     2549         229  \n",
       "608100  So listen. Look. I am a READER, right? I mean,...     3167         537  \n",
       "818796  I give this 5 stars, BUT there is a disclaimer...     3222         172  \n",
       "\n",
       "[900000 rows x 7 columns]"
      ]
     },
     "execution_count": 15,
     "metadata": {},
     "output_type": "execute_result"
    }
   ],
   "source": [
    "train_data.sort_values(by=['n_votes'])"
   ]
  },
  {
   "cell_type": "markdown",
   "id": "3e8c7bce",
   "metadata": {
    "papermill": {
     "duration": 0.018894,
     "end_time": "2022-08-27T16:40:37.186876",
     "exception": false,
     "start_time": "2022-08-27T16:40:37.167982",
     "status": "completed"
    },
    "tags": []
   },
   "source": [
    "Converting negative numbers to positive numbers (I assume negative ones are typo)."
   ]
  },
  {
   "cell_type": "code",
   "execution_count": 16,
   "id": "d3071ca2",
   "metadata": {
    "execution": {
     "iopub.execute_input": "2022-08-27T16:40:37.227690Z",
     "iopub.status.busy": "2022-08-27T16:40:37.227137Z",
     "iopub.status.idle": "2022-08-27T16:40:37.396254Z",
     "shell.execute_reply": "2022-08-27T16:40:37.395037Z"
    },
    "papermill": {
     "duration": 0.192681,
     "end_time": "2022-08-27T16:40:37.399276",
     "exception": false,
     "start_time": "2022-08-27T16:40:37.206595",
     "status": "completed"
    },
    "tags": []
   },
   "outputs": [],
   "source": [
    "for n in train_data['n_votes']:\n",
    "    if n < 0:\n",
    "        train_data['n_votes'] = train_data['n_votes'].replace(n,-n)\n",
    "      "
   ]
  },
  {
   "cell_type": "code",
   "execution_count": 17,
   "id": "c0c3160a",
   "metadata": {
    "execution": {
     "iopub.execute_input": "2022-08-27T16:40:37.440365Z",
     "iopub.status.busy": "2022-08-27T16:40:37.439903Z",
     "iopub.status.idle": "2022-08-27T16:40:37.678806Z",
     "shell.execute_reply": "2022-08-27T16:40:37.677189Z"
    },
    "papermill": {
     "duration": 0.262435,
     "end_time": "2022-08-27T16:40:37.681434",
     "exception": false,
     "start_time": "2022-08-27T16:40:37.418999",
     "status": "completed"
    },
    "tags": []
   },
   "outputs": [
    {
     "data": {
      "text/html": [
       "<div>\n",
       "<style scoped>\n",
       "    .dataframe tbody tr th:only-of-type {\n",
       "        vertical-align: middle;\n",
       "    }\n",
       "\n",
       "    .dataframe tbody tr th {\n",
       "        vertical-align: top;\n",
       "    }\n",
       "\n",
       "    .dataframe thead th {\n",
       "        text-align: right;\n",
       "    }\n",
       "</style>\n",
       "<table border=\"1\" class=\"dataframe\">\n",
       "  <thead>\n",
       "    <tr style=\"text-align: right;\">\n",
       "      <th></th>\n",
       "      <th>user_id</th>\n",
       "      <th>book_id</th>\n",
       "      <th>review_id</th>\n",
       "      <th>rating</th>\n",
       "      <th>review_text</th>\n",
       "      <th>n_votes</th>\n",
       "      <th>n_comments</th>\n",
       "    </tr>\n",
       "  </thead>\n",
       "  <tbody>\n",
       "    <tr>\n",
       "      <th>899999</th>\n",
       "      <td>b9450d1c1f97f891c392b1105959b56e</td>\n",
       "      <td>17005</td>\n",
       "      <td>d55f3a967230940e75a314700caec9a5</td>\n",
       "      <td>3</td>\n",
       "      <td>** spoiler alert ** \\n 3.5 stars \\n I liked it...</td>\n",
       "      <td>0</td>\n",
       "      <td>0</td>\n",
       "    </tr>\n",
       "    <tr>\n",
       "      <th>448558</th>\n",
       "      <td>b96fb928c4aec6d78d841e879f4d9f9c</td>\n",
       "      <td>13056511</td>\n",
       "      <td>5be492c2fde835a17fd78125aaac52c2</td>\n",
       "      <td>4</td>\n",
       "      <td>1/2 \\n Heaven was a fitting end to this sweet ...</td>\n",
       "      <td>0</td>\n",
       "      <td>0</td>\n",
       "    </tr>\n",
       "    <tr>\n",
       "      <th>448561</th>\n",
       "      <td>b96fb928c4aec6d78d841e879f4d9f9c</td>\n",
       "      <td>12096557</td>\n",
       "      <td>15ce4af19ca4ee044363d96e97a271e4</td>\n",
       "      <td>4</td>\n",
       "      <td>I just finished reading Blood Bound today. I l...</td>\n",
       "      <td>0</td>\n",
       "      <td>0</td>\n",
       "    </tr>\n",
       "    <tr>\n",
       "      <th>448562</th>\n",
       "      <td>b96fb928c4aec6d78d841e879f4d9f9c</td>\n",
       "      <td>16070143</td>\n",
       "      <td>fa99b2732ad69efab99d684222874737</td>\n",
       "      <td>3</td>\n",
       "      <td>Overall I liked it, but I couldn't connect to ...</td>\n",
       "      <td>0</td>\n",
       "      <td>0</td>\n",
       "    </tr>\n",
       "    <tr>\n",
       "      <th>448563</th>\n",
       "      <td>b96fb928c4aec6d78d841e879f4d9f9c</td>\n",
       "      <td>13040826</td>\n",
       "      <td>fa51318b552e1f7e28a1306e7f7e6681</td>\n",
       "      <td>3</td>\n",
       "      <td>I love J.R. Ward's Black Dagger Brotherhood va...</td>\n",
       "      <td>0</td>\n",
       "      <td>0</td>\n",
       "    </tr>\n",
       "    <tr>\n",
       "      <th>...</th>\n",
       "      <td>...</td>\n",
       "      <td>...</td>\n",
       "      <td>...</td>\n",
       "      <td>...</td>\n",
       "      <td>...</td>\n",
       "      <td>...</td>\n",
       "      <td>...</td>\n",
       "    </tr>\n",
       "    <tr>\n",
       "      <th>510984</th>\n",
       "      <td>8cf5e7b479644265868bd08e8f64b622</td>\n",
       "      <td>8667848</td>\n",
       "      <td>03361c23fbf3cc68cedbe08f920f36fe</td>\n",
       "      <td>1</td>\n",
       "      <td>okay, so the good things: I liked the world/my...</td>\n",
       "      <td>2252</td>\n",
       "      <td>509</td>\n",
       "    </tr>\n",
       "    <tr>\n",
       "      <th>879300</th>\n",
       "      <td>114d8821adeb988a240b9ec4c68078a0</td>\n",
       "      <td>29056083</td>\n",
       "      <td>bb1641ff2401ea6b24c690d224a51f1d</td>\n",
       "      <td>4</td>\n",
       "      <td>It was alright. It was just alright. \\n I know...</td>\n",
       "      <td>2333</td>\n",
       "      <td>160</td>\n",
       "    </tr>\n",
       "    <tr>\n",
       "      <th>436726</th>\n",
       "      <td>f18811ea6ea82ee427be7ebeef1050da</td>\n",
       "      <td>29056083</td>\n",
       "      <td>1dd32ab0bb1a0f7545390ed69d149573</td>\n",
       "      <td>1</td>\n",
       "      <td>Ok wow where do I even begin with this. \\n My ...</td>\n",
       "      <td>2549</td>\n",
       "      <td>229</td>\n",
       "    </tr>\n",
       "    <tr>\n",
       "      <th>608100</th>\n",
       "      <td>abc4a0147e00cf29d7a9d865ecdf160c</td>\n",
       "      <td>18405388</td>\n",
       "      <td>525e2bd48ae0d40301c33350aaaf790a</td>\n",
       "      <td>5</td>\n",
       "      <td>So listen. Look. I am a READER, right? I mean,...</td>\n",
       "      <td>3167</td>\n",
       "      <td>537</td>\n",
       "    </tr>\n",
       "    <tr>\n",
       "      <th>818796</th>\n",
       "      <td>e5645006eb9dc54b37c742ec842e3ec9</td>\n",
       "      <td>19063</td>\n",
       "      <td>367c567e971789167e8556f89451d115</td>\n",
       "      <td>5</td>\n",
       "      <td>I give this 5 stars, BUT there is a disclaimer...</td>\n",
       "      <td>3222</td>\n",
       "      <td>172</td>\n",
       "    </tr>\n",
       "  </tbody>\n",
       "</table>\n",
       "<p>900000 rows × 7 columns</p>\n",
       "</div>"
      ],
      "text/plain": [
       "                                 user_id   book_id  \\\n",
       "899999  b9450d1c1f97f891c392b1105959b56e     17005   \n",
       "448558  b96fb928c4aec6d78d841e879f4d9f9c  13056511   \n",
       "448561  b96fb928c4aec6d78d841e879f4d9f9c  12096557   \n",
       "448562  b96fb928c4aec6d78d841e879f4d9f9c  16070143   \n",
       "448563  b96fb928c4aec6d78d841e879f4d9f9c  13040826   \n",
       "...                                  ...       ...   \n",
       "510984  8cf5e7b479644265868bd08e8f64b622   8667848   \n",
       "879300  114d8821adeb988a240b9ec4c68078a0  29056083   \n",
       "436726  f18811ea6ea82ee427be7ebeef1050da  29056083   \n",
       "608100  abc4a0147e00cf29d7a9d865ecdf160c  18405388   \n",
       "818796  e5645006eb9dc54b37c742ec842e3ec9     19063   \n",
       "\n",
       "                               review_id  rating  \\\n",
       "899999  d55f3a967230940e75a314700caec9a5       3   \n",
       "448558  5be492c2fde835a17fd78125aaac52c2       4   \n",
       "448561  15ce4af19ca4ee044363d96e97a271e4       4   \n",
       "448562  fa99b2732ad69efab99d684222874737       3   \n",
       "448563  fa51318b552e1f7e28a1306e7f7e6681       3   \n",
       "...                                  ...     ...   \n",
       "510984  03361c23fbf3cc68cedbe08f920f36fe       1   \n",
       "879300  bb1641ff2401ea6b24c690d224a51f1d       4   \n",
       "436726  1dd32ab0bb1a0f7545390ed69d149573       1   \n",
       "608100  525e2bd48ae0d40301c33350aaaf790a       5   \n",
       "818796  367c567e971789167e8556f89451d115       5   \n",
       "\n",
       "                                              review_text  n_votes  n_comments  \n",
       "899999  ** spoiler alert ** \\n 3.5 stars \\n I liked it...        0           0  \n",
       "448558  1/2 \\n Heaven was a fitting end to this sweet ...        0           0  \n",
       "448561  I just finished reading Blood Bound today. I l...        0           0  \n",
       "448562  Overall I liked it, but I couldn't connect to ...        0           0  \n",
       "448563  I love J.R. Ward's Black Dagger Brotherhood va...        0           0  \n",
       "...                                                   ...      ...         ...  \n",
       "510984  okay, so the good things: I liked the world/my...     2252         509  \n",
       "879300  It was alright. It was just alright. \\n I know...     2333         160  \n",
       "436726  Ok wow where do I even begin with this. \\n My ...     2549         229  \n",
       "608100  So listen. Look. I am a READER, right? I mean,...     3167         537  \n",
       "818796  I give this 5 stars, BUT there is a disclaimer...     3222         172  \n",
       "\n",
       "[900000 rows x 7 columns]"
      ]
     },
     "execution_count": 17,
     "metadata": {},
     "output_type": "execute_result"
    }
   ],
   "source": [
    "train_data.sort_values(by=['n_votes'])  "
   ]
  },
  {
   "cell_type": "markdown",
   "id": "cd12c7cc",
   "metadata": {
    "papermill": {
     "duration": 0.019094,
     "end_time": "2022-08-27T16:40:37.720330",
     "exception": false,
     "start_time": "2022-08-27T16:40:37.701236",
     "status": "completed"
    },
    "tags": []
   },
   "source": [
    "### and There are negative number of comments"
   ]
  },
  {
   "cell_type": "code",
   "execution_count": 18,
   "id": "43bc1c67",
   "metadata": {
    "execution": {
     "iopub.execute_input": "2022-08-27T16:40:37.761463Z",
     "iopub.status.busy": "2022-08-27T16:40:37.761031Z",
     "iopub.status.idle": "2022-08-27T16:40:37.965335Z",
     "shell.execute_reply": "2022-08-27T16:40:37.963765Z"
    },
    "papermill": {
     "duration": 0.228341,
     "end_time": "2022-08-27T16:40:37.968353",
     "exception": false,
     "start_time": "2022-08-27T16:40:37.740012",
     "status": "completed"
    },
    "tags": []
   },
   "outputs": [
    {
     "data": {
      "text/html": [
       "<div>\n",
       "<style scoped>\n",
       "    .dataframe tbody tr th:only-of-type {\n",
       "        vertical-align: middle;\n",
       "    }\n",
       "\n",
       "    .dataframe tbody tr th {\n",
       "        vertical-align: top;\n",
       "    }\n",
       "\n",
       "    .dataframe thead th {\n",
       "        text-align: right;\n",
       "    }\n",
       "</style>\n",
       "<table border=\"1\" class=\"dataframe\">\n",
       "  <thead>\n",
       "    <tr style=\"text-align: right;\">\n",
       "      <th></th>\n",
       "      <th>user_id</th>\n",
       "      <th>book_id</th>\n",
       "      <th>review_id</th>\n",
       "      <th>rating</th>\n",
       "      <th>review_text</th>\n",
       "      <th>n_votes</th>\n",
       "      <th>n_comments</th>\n",
       "    </tr>\n",
       "  </thead>\n",
       "  <tbody>\n",
       "    <tr>\n",
       "      <th>570065</th>\n",
       "      <td>3687fcc87a9c2d733df8cfc43ae8dcfe</td>\n",
       "      <td>26860475</td>\n",
       "      <td>9235c340d5beef19271ba880c9db559b</td>\n",
       "      <td>4</td>\n",
       "      <td>The review is for Life and Death only. \\n 3.5/...</td>\n",
       "      <td>6</td>\n",
       "      <td>-1</td>\n",
       "    </tr>\n",
       "    <tr>\n",
       "      <th>13007</th>\n",
       "      <td>feafbae6a2cf100c84a712edd03e930d</td>\n",
       "      <td>1828067</td>\n",
       "      <td>aef92262bb2cda22247768affe7582b9</td>\n",
       "      <td>2</td>\n",
       "      <td>I haven't had much luck finding new, entertain...</td>\n",
       "      <td>7</td>\n",
       "      <td>-1</td>\n",
       "    </tr>\n",
       "    <tr>\n",
       "      <th>622493</th>\n",
       "      <td>26b6d2e8d2c2e2f76a70a3359ba76c6a</td>\n",
       "      <td>17572903</td>\n",
       "      <td>bbcd01ffb27e53927825506ad3346ad5</td>\n",
       "      <td>4</td>\n",
       "      <td>My new historical fiction interest is WWI. \\n ...</td>\n",
       "      <td>9</td>\n",
       "      <td>-1</td>\n",
       "    </tr>\n",
       "    <tr>\n",
       "      <th>13045</th>\n",
       "      <td>feafbae6a2cf100c84a712edd03e930d</td>\n",
       "      <td>17645</td>\n",
       "      <td>29a5a6522bfc6496ec5a55efedcceef6</td>\n",
       "      <td>3</td>\n",
       "      <td>I finished rereading this and found it conside...</td>\n",
       "      <td>2</td>\n",
       "      <td>-1</td>\n",
       "    </tr>\n",
       "    <tr>\n",
       "      <th>157212</th>\n",
       "      <td>06e1a327fd336d7eee74aa62f1275386</td>\n",
       "      <td>12031532</td>\n",
       "      <td>c1a21535a8c1c180fc5296b47dbc9a78</td>\n",
       "      <td>3</td>\n",
       "      <td>Sometimes it hurts to give a book three stars....</td>\n",
       "      <td>4</td>\n",
       "      <td>-1</td>\n",
       "    </tr>\n",
       "    <tr>\n",
       "      <th>...</th>\n",
       "      <td>...</td>\n",
       "      <td>...</td>\n",
       "      <td>...</td>\n",
       "      <td>...</td>\n",
       "      <td>...</td>\n",
       "      <td>...</td>\n",
       "      <td>...</td>\n",
       "    </tr>\n",
       "    <tr>\n",
       "      <th>296971</th>\n",
       "      <td>033cf640dfa6f85eb146c39787289628</td>\n",
       "      <td>12649718</td>\n",
       "      <td>e3cd6e5463ff21558ba0111166885676</td>\n",
       "      <td>2</td>\n",
       "      <td>*WARNING: UNPOPULAR OPINION TIME* \\n People se...</td>\n",
       "      <td>2245</td>\n",
       "      <td>655</td>\n",
       "    </tr>\n",
       "    <tr>\n",
       "      <th>766303</th>\n",
       "      <td>f25efea9ef366b3c1465342f75a0f24e</td>\n",
       "      <td>13453029</td>\n",
       "      <td>57d794c7dc85d5ec2da3e8f4c096e34c</td>\n",
       "      <td>4</td>\n",
       "      <td>There are two stupid things about this book, n...</td>\n",
       "      <td>259</td>\n",
       "      <td>660</td>\n",
       "    </tr>\n",
       "    <tr>\n",
       "      <th>130891</th>\n",
       "      <td>d89ddf4e446dc188dede6c1c55792bed</td>\n",
       "      <td>4667024</td>\n",
       "      <td>deddd7adf1df5f80b12e8fbf163b90dd</td>\n",
       "      <td>0</td>\n",
       "      <td>I have this terrible, dreary feeling in my dia...</td>\n",
       "      <td>494</td>\n",
       "      <td>804</td>\n",
       "    </tr>\n",
       "    <tr>\n",
       "      <th>430397</th>\n",
       "      <td>7ae994deaec533582e797618bc2bf68a</td>\n",
       "      <td>7046495</td>\n",
       "      <td>e8e77feeb2f743c5263d660363d134d4</td>\n",
       "      <td>5</td>\n",
       "      <td>Some things are destined to be- \\n It just tak...</td>\n",
       "      <td>175</td>\n",
       "      <td>833</td>\n",
       "    </tr>\n",
       "    <tr>\n",
       "      <th>218710</th>\n",
       "      <td>83299fe7dc091586cce1d9644c8af41b</td>\n",
       "      <td>31926845</td>\n",
       "      <td>19de03683b496d12b123316f09bcdf5b</td>\n",
       "      <td>0</td>\n",
       "      <td>LIVE! | AMZ US | AMZ UK | B&amp;N | \\n Nanny meets...</td>\n",
       "      <td>201</td>\n",
       "      <td>1335</td>\n",
       "    </tr>\n",
       "  </tbody>\n",
       "</table>\n",
       "<p>900000 rows × 7 columns</p>\n",
       "</div>"
      ],
      "text/plain": [
       "                                 user_id   book_id  \\\n",
       "570065  3687fcc87a9c2d733df8cfc43ae8dcfe  26860475   \n",
       "13007   feafbae6a2cf100c84a712edd03e930d   1828067   \n",
       "622493  26b6d2e8d2c2e2f76a70a3359ba76c6a  17572903   \n",
       "13045   feafbae6a2cf100c84a712edd03e930d     17645   \n",
       "157212  06e1a327fd336d7eee74aa62f1275386  12031532   \n",
       "...                                  ...       ...   \n",
       "296971  033cf640dfa6f85eb146c39787289628  12649718   \n",
       "766303  f25efea9ef366b3c1465342f75a0f24e  13453029   \n",
       "130891  d89ddf4e446dc188dede6c1c55792bed   4667024   \n",
       "430397  7ae994deaec533582e797618bc2bf68a   7046495   \n",
       "218710  83299fe7dc091586cce1d9644c8af41b  31926845   \n",
       "\n",
       "                               review_id  rating  \\\n",
       "570065  9235c340d5beef19271ba880c9db559b       4   \n",
       "13007   aef92262bb2cda22247768affe7582b9       2   \n",
       "622493  bbcd01ffb27e53927825506ad3346ad5       4   \n",
       "13045   29a5a6522bfc6496ec5a55efedcceef6       3   \n",
       "157212  c1a21535a8c1c180fc5296b47dbc9a78       3   \n",
       "...                                  ...     ...   \n",
       "296971  e3cd6e5463ff21558ba0111166885676       2   \n",
       "766303  57d794c7dc85d5ec2da3e8f4c096e34c       4   \n",
       "130891  deddd7adf1df5f80b12e8fbf163b90dd       0   \n",
       "430397  e8e77feeb2f743c5263d660363d134d4       5   \n",
       "218710  19de03683b496d12b123316f09bcdf5b       0   \n",
       "\n",
       "                                              review_text  n_votes  n_comments  \n",
       "570065  The review is for Life and Death only. \\n 3.5/...        6          -1  \n",
       "13007   I haven't had much luck finding new, entertain...        7          -1  \n",
       "622493  My new historical fiction interest is WWI. \\n ...        9          -1  \n",
       "13045   I finished rereading this and found it conside...        2          -1  \n",
       "157212  Sometimes it hurts to give a book three stars....        4          -1  \n",
       "...                                                   ...      ...         ...  \n",
       "296971  *WARNING: UNPOPULAR OPINION TIME* \\n People se...     2245         655  \n",
       "766303  There are two stupid things about this book, n...      259         660  \n",
       "130891  I have this terrible, dreary feeling in my dia...      494         804  \n",
       "430397  Some things are destined to be- \\n It just tak...      175         833  \n",
       "218710  LIVE! | AMZ US | AMZ UK | B&N | \\n Nanny meets...      201        1335  \n",
       "\n",
       "[900000 rows x 7 columns]"
      ]
     },
     "execution_count": 18,
     "metadata": {},
     "output_type": "execute_result"
    }
   ],
   "source": [
    "train_data.sort_values(by=['n_comments'])"
   ]
  },
  {
   "cell_type": "markdown",
   "id": "04b1c440",
   "metadata": {
    "papermill": {
     "duration": 0.019439,
     "end_time": "2022-08-27T16:40:38.008234",
     "exception": false,
     "start_time": "2022-08-27T16:40:37.988795",
     "status": "completed"
    },
    "tags": []
   },
   "source": [
    "Converting negative numbers to positive number "
   ]
  },
  {
   "cell_type": "code",
   "execution_count": 19,
   "id": "c97ad542",
   "metadata": {
    "execution": {
     "iopub.execute_input": "2022-08-27T16:40:38.051092Z",
     "iopub.status.busy": "2022-08-27T16:40:38.050287Z",
     "iopub.status.idle": "2022-08-27T16:40:38.199785Z",
     "shell.execute_reply": "2022-08-27T16:40:38.197833Z"
    },
    "papermill": {
     "duration": 0.173986,
     "end_time": "2022-08-27T16:40:38.203050",
     "exception": false,
     "start_time": "2022-08-27T16:40:38.029064",
     "status": "completed"
    },
    "tags": []
   },
   "outputs": [],
   "source": [
    "for n in train_data['n_comments']:\n",
    "    if n < 0:\n",
    "        train_data['n_comments'] = train_data['n_comments'].replace(n,-n)\n",
    "      "
   ]
  },
  {
   "cell_type": "code",
   "execution_count": 20,
   "id": "02f98b9f",
   "metadata": {
    "execution": {
     "iopub.execute_input": "2022-08-27T16:40:38.246752Z",
     "iopub.status.busy": "2022-08-27T16:40:38.245952Z",
     "iopub.status.idle": "2022-08-27T16:40:38.446466Z",
     "shell.execute_reply": "2022-08-27T16:40:38.445225Z"
    },
    "papermill": {
     "duration": 0.224893,
     "end_time": "2022-08-27T16:40:38.449266",
     "exception": false,
     "start_time": "2022-08-27T16:40:38.224373",
     "status": "completed"
    },
    "tags": []
   },
   "outputs": [
    {
     "data": {
      "text/html": [
       "<div>\n",
       "<style scoped>\n",
       "    .dataframe tbody tr th:only-of-type {\n",
       "        vertical-align: middle;\n",
       "    }\n",
       "\n",
       "    .dataframe tbody tr th {\n",
       "        vertical-align: top;\n",
       "    }\n",
       "\n",
       "    .dataframe thead th {\n",
       "        text-align: right;\n",
       "    }\n",
       "</style>\n",
       "<table border=\"1\" class=\"dataframe\">\n",
       "  <thead>\n",
       "    <tr style=\"text-align: right;\">\n",
       "      <th></th>\n",
       "      <th>user_id</th>\n",
       "      <th>book_id</th>\n",
       "      <th>review_id</th>\n",
       "      <th>rating</th>\n",
       "      <th>review_text</th>\n",
       "      <th>n_votes</th>\n",
       "      <th>n_comments</th>\n",
       "    </tr>\n",
       "  </thead>\n",
       "  <tbody>\n",
       "    <tr>\n",
       "      <th>449999</th>\n",
       "      <td>c8aadd507f4b30abe6fc963f23640ca5</td>\n",
       "      <td>22885333</td>\n",
       "      <td>b5bab6eb0e9b68789b0c7e90d2c3cfd4</td>\n",
       "      <td>4</td>\n",
       "      <td>All the miscommunication and arguing made me c...</td>\n",
       "      <td>3</td>\n",
       "      <td>0</td>\n",
       "    </tr>\n",
       "    <tr>\n",
       "      <th>573840</th>\n",
       "      <td>00238d8a4c276c47f5d5e242f54a8f28</td>\n",
       "      <td>7514925</td>\n",
       "      <td>025ce726044f7104fe6b86bc98bc846d</td>\n",
       "      <td>3</td>\n",
       "      <td>Rating: 3.5 \\n I love retellings so I had high...</td>\n",
       "      <td>3</td>\n",
       "      <td>0</td>\n",
       "    </tr>\n",
       "    <tr>\n",
       "      <th>573841</th>\n",
       "      <td>00238d8a4c276c47f5d5e242f54a8f28</td>\n",
       "      <td>12977172</td>\n",
       "      <td>1be4f4f49a1030a1bbad0fbf575cf01d</td>\n",
       "      <td>5</td>\n",
       "      <td>I'm loving the Elemental series by Brigid Kemm...</td>\n",
       "      <td>1</td>\n",
       "      <td>0</td>\n",
       "    </tr>\n",
       "    <tr>\n",
       "      <th>573842</th>\n",
       "      <td>00238d8a4c276c47f5d5e242f54a8f28</td>\n",
       "      <td>25182342</td>\n",
       "      <td>a3b0bc245b413a31715d22eb993d3d93</td>\n",
       "      <td>5</td>\n",
       "      <td>Wow, this was so much more than what I was exp...</td>\n",
       "      <td>2</td>\n",
       "      <td>0</td>\n",
       "    </tr>\n",
       "    <tr>\n",
       "      <th>573843</th>\n",
       "      <td>00238d8a4c276c47f5d5e242f54a8f28</td>\n",
       "      <td>16248068</td>\n",
       "      <td>1b663b84e4fa1774958bed663037dce3</td>\n",
       "      <td>4</td>\n",
       "      <td>The second book in The Selection series was de...</td>\n",
       "      <td>1</td>\n",
       "      <td>0</td>\n",
       "    </tr>\n",
       "    <tr>\n",
       "      <th>...</th>\n",
       "      <td>...</td>\n",
       "      <td>...</td>\n",
       "      <td>...</td>\n",
       "      <td>...</td>\n",
       "      <td>...</td>\n",
       "      <td>...</td>\n",
       "      <td>...</td>\n",
       "    </tr>\n",
       "    <tr>\n",
       "      <th>296971</th>\n",
       "      <td>033cf640dfa6f85eb146c39787289628</td>\n",
       "      <td>12649718</td>\n",
       "      <td>e3cd6e5463ff21558ba0111166885676</td>\n",
       "      <td>2</td>\n",
       "      <td>*WARNING: UNPOPULAR OPINION TIME* \\n People se...</td>\n",
       "      <td>2245</td>\n",
       "      <td>655</td>\n",
       "    </tr>\n",
       "    <tr>\n",
       "      <th>766303</th>\n",
       "      <td>f25efea9ef366b3c1465342f75a0f24e</td>\n",
       "      <td>13453029</td>\n",
       "      <td>57d794c7dc85d5ec2da3e8f4c096e34c</td>\n",
       "      <td>4</td>\n",
       "      <td>There are two stupid things about this book, n...</td>\n",
       "      <td>259</td>\n",
       "      <td>660</td>\n",
       "    </tr>\n",
       "    <tr>\n",
       "      <th>130891</th>\n",
       "      <td>d89ddf4e446dc188dede6c1c55792bed</td>\n",
       "      <td>4667024</td>\n",
       "      <td>deddd7adf1df5f80b12e8fbf163b90dd</td>\n",
       "      <td>0</td>\n",
       "      <td>I have this terrible, dreary feeling in my dia...</td>\n",
       "      <td>494</td>\n",
       "      <td>804</td>\n",
       "    </tr>\n",
       "    <tr>\n",
       "      <th>430397</th>\n",
       "      <td>7ae994deaec533582e797618bc2bf68a</td>\n",
       "      <td>7046495</td>\n",
       "      <td>e8e77feeb2f743c5263d660363d134d4</td>\n",
       "      <td>5</td>\n",
       "      <td>Some things are destined to be- \\n It just tak...</td>\n",
       "      <td>175</td>\n",
       "      <td>833</td>\n",
       "    </tr>\n",
       "    <tr>\n",
       "      <th>218710</th>\n",
       "      <td>83299fe7dc091586cce1d9644c8af41b</td>\n",
       "      <td>31926845</td>\n",
       "      <td>19de03683b496d12b123316f09bcdf5b</td>\n",
       "      <td>0</td>\n",
       "      <td>LIVE! | AMZ US | AMZ UK | B&amp;N | \\n Nanny meets...</td>\n",
       "      <td>201</td>\n",
       "      <td>1335</td>\n",
       "    </tr>\n",
       "  </tbody>\n",
       "</table>\n",
       "<p>900000 rows × 7 columns</p>\n",
       "</div>"
      ],
      "text/plain": [
       "                                 user_id   book_id  \\\n",
       "449999  c8aadd507f4b30abe6fc963f23640ca5  22885333   \n",
       "573840  00238d8a4c276c47f5d5e242f54a8f28   7514925   \n",
       "573841  00238d8a4c276c47f5d5e242f54a8f28  12977172   \n",
       "573842  00238d8a4c276c47f5d5e242f54a8f28  25182342   \n",
       "573843  00238d8a4c276c47f5d5e242f54a8f28  16248068   \n",
       "...                                  ...       ...   \n",
       "296971  033cf640dfa6f85eb146c39787289628  12649718   \n",
       "766303  f25efea9ef366b3c1465342f75a0f24e  13453029   \n",
       "130891  d89ddf4e446dc188dede6c1c55792bed   4667024   \n",
       "430397  7ae994deaec533582e797618bc2bf68a   7046495   \n",
       "218710  83299fe7dc091586cce1d9644c8af41b  31926845   \n",
       "\n",
       "                               review_id  rating  \\\n",
       "449999  b5bab6eb0e9b68789b0c7e90d2c3cfd4       4   \n",
       "573840  025ce726044f7104fe6b86bc98bc846d       3   \n",
       "573841  1be4f4f49a1030a1bbad0fbf575cf01d       5   \n",
       "573842  a3b0bc245b413a31715d22eb993d3d93       5   \n",
       "573843  1b663b84e4fa1774958bed663037dce3       4   \n",
       "...                                  ...     ...   \n",
       "296971  e3cd6e5463ff21558ba0111166885676       2   \n",
       "766303  57d794c7dc85d5ec2da3e8f4c096e34c       4   \n",
       "130891  deddd7adf1df5f80b12e8fbf163b90dd       0   \n",
       "430397  e8e77feeb2f743c5263d660363d134d4       5   \n",
       "218710  19de03683b496d12b123316f09bcdf5b       0   \n",
       "\n",
       "                                              review_text  n_votes  n_comments  \n",
       "449999  All the miscommunication and arguing made me c...        3           0  \n",
       "573840  Rating: 3.5 \\n I love retellings so I had high...        3           0  \n",
       "573841  I'm loving the Elemental series by Brigid Kemm...        1           0  \n",
       "573842  Wow, this was so much more than what I was exp...        2           0  \n",
       "573843  The second book in The Selection series was de...        1           0  \n",
       "...                                                   ...      ...         ...  \n",
       "296971  *WARNING: UNPOPULAR OPINION TIME* \\n People se...     2245         655  \n",
       "766303  There are two stupid things about this book, n...      259         660  \n",
       "130891  I have this terrible, dreary feeling in my dia...      494         804  \n",
       "430397  Some things are destined to be- \\n It just tak...      175         833  \n",
       "218710  LIVE! | AMZ US | AMZ UK | B&N | \\n Nanny meets...      201        1335  \n",
       "\n",
       "[900000 rows x 7 columns]"
      ]
     },
     "execution_count": 20,
     "metadata": {},
     "output_type": "execute_result"
    }
   ],
   "source": [
    "train_data.sort_values(by=['n_comments'])"
   ]
  },
  {
   "cell_type": "markdown",
   "id": "9266efa6",
   "metadata": {
    "papermill": {
     "duration": 0.019789,
     "end_time": "2022-08-27T16:40:38.489166",
     "exception": false,
     "start_time": "2022-08-27T16:40:38.469377",
     "status": "completed"
    },
    "tags": []
   },
   "source": [
    "### We are searching a relationship between number of comments and numbers of votes with ratings"
   ]
  },
  {
   "cell_type": "code",
   "execution_count": 21,
   "id": "1f5391d9",
   "metadata": {
    "execution": {
     "iopub.execute_input": "2022-08-27T16:40:38.530963Z",
     "iopub.status.busy": "2022-08-27T16:40:38.530572Z",
     "iopub.status.idle": "2022-08-27T16:40:40.321688Z",
     "shell.execute_reply": "2022-08-27T16:40:40.320114Z"
    },
    "papermill": {
     "duration": 1.815084,
     "end_time": "2022-08-27T16:40:40.324272",
     "exception": false,
     "start_time": "2022-08-27T16:40:38.509188",
     "status": "completed"
    },
    "tags": []
   },
   "outputs": [
    {
     "data": {
      "text/plain": [
       "Text(0, 0.5, 'Rating')"
      ]
     },
     "execution_count": 21,
     "metadata": {},
     "output_type": "execute_result"
    },
    {
     "data": {
      "image/png": "[encoded data removed]",
      "text/plain": [
       "<Figure size 432x288 with 1 Axes>"
      ]
     },
     "metadata": {
      "needs_background": "light"
     },
     "output_type": "display_data"
    }
   ],
   "source": [
    "fig, ax = plt.subplots()\n",
    "\n",
    "plt.scatter(x = train_data['n_votes'], y = train_data['rating'])\n",
    "plt.xlabel('Number of votes')\n",
    "plt.ylabel('Rating')"
   ]
  },
  {
   "cell_type": "code",
   "execution_count": 22,
   "id": "f7be1a9b",
   "metadata": {
    "execution": {
     "iopub.execute_input": "2022-08-27T16:40:40.368503Z",
     "iopub.status.busy": "2022-08-27T16:40:40.368080Z",
     "iopub.status.idle": "2022-08-27T16:40:42.292397Z",
     "shell.execute_reply": "2022-08-27T16:40:42.291267Z"
    },
    "papermill": {
     "duration": 1.949207,
     "end_time": "2022-08-27T16:40:42.295165",
     "exception": false,
     "start_time": "2022-08-27T16:40:40.345958",
     "status": "completed"
    },
    "tags": []
   },
   "outputs": [
    {
     "data": {
      "text/plain": [
       "Text(0, 0.5, 'Rating')"
      ]
     },
     "execution_count": 22,
     "metadata": {},
     "output_type": "execute_result"
    },
    {
     "data": {
      "image/png": "[encoded data removed]",
      "text/plain": [
       "<Figure size 432x288 with 1 Axes>"
      ]
     },
     "metadata": {
      "needs_background": "light"
     },
     "output_type": "display_data"
    }
   ],
   "source": [
    "fig, ax = plt.subplots()\n",
    "\n",
    "plt.scatter(x = train_data['n_comments'], y = train_data['rating'])\n",
    "plt.xlabel('Number of comments')\n",
    "plt.ylabel('Rating')"
   ]
  },
  {
   "cell_type": "code",
   "execution_count": 23,
   "id": "3af8cec4",
   "metadata": {
    "execution": {
     "iopub.execute_input": "2022-08-27T16:40:42.340464Z",
     "iopub.status.busy": "2022-08-27T16:40:42.339953Z",
     "iopub.status.idle": "2022-08-27T16:40:42.620914Z",
     "shell.execute_reply": "2022-08-27T16:40:42.619982Z"
    },
    "papermill": {
     "duration": 0.306881,
     "end_time": "2022-08-27T16:40:42.623473",
     "exception": false,
     "start_time": "2022-08-27T16:40:42.316592",
     "status": "completed"
    },
    "tags": []
   },
   "outputs": [
    {
     "name": "stderr",
     "output_type": "stream",
     "text": [
      "/opt/conda/lib/python3.7/site-packages/ipykernel_launcher.py:1: FutureWarning: Indexing with multiple keys (implicitly converted to a tuple of keys) will be deprecated, use a list instead.\n",
      "  \"\"\"Entry point for launching an IPython kernel.\n"
     ]
    },
    {
     "data": {
      "text/plain": [
       "<AxesSubplot:xlabel='rating'>"
      ]
     },
     "execution_count": 23,
     "metadata": {},
     "output_type": "execute_result"
    },
    {
     "data": {
      "image/png": "[encoded data removed]",
      "text/plain": [
       "<Figure size 432x288 with 1 Axes>"
      ]
     },
     "metadata": {
      "needs_background": "light"
     },
     "output_type": "display_data"
    }
   ],
   "source": [
    "train_data.groupby('rating')['n_votes','n_comments'].sum().plot.bar()"
   ]
  },
  {
   "cell_type": "markdown",
   "id": "e805c21f",
   "metadata": {
    "papermill": {
     "duration": 0.023104,
     "end_time": "2022-08-27T16:40:42.670267",
     "exception": false,
     "start_time": "2022-08-27T16:40:42.647163",
     "status": "completed"
    },
    "tags": []
   },
   "source": [
    "It is wrong look at the sum because the number of ratings also in effect so it is better to look at average"
   ]
  },
  {
   "cell_type": "code",
   "execution_count": 24,
   "id": "dab17570",
   "metadata": {
    "execution": {
     "iopub.execute_input": "2022-08-27T16:40:42.719294Z",
     "iopub.status.busy": "2022-08-27T16:40:42.718609Z",
     "iopub.status.idle": "2022-08-27T16:40:42.995966Z",
     "shell.execute_reply": "2022-08-27T16:40:42.994542Z"
    },
    "papermill": {
     "duration": 0.304782,
     "end_time": "2022-08-27T16:40:42.998806",
     "exception": false,
     "start_time": "2022-08-27T16:40:42.694024",
     "status": "completed"
    },
    "tags": []
   },
   "outputs": [
    {
     "name": "stderr",
     "output_type": "stream",
     "text": [
      "/opt/conda/lib/python3.7/site-packages/ipykernel_launcher.py:1: FutureWarning: Indexing with multiple keys (implicitly converted to a tuple of keys) will be deprecated, use a list instead.\n",
      "  \"\"\"Entry point for launching an IPython kernel.\n"
     ]
    },
    {
     "data": {
      "text/plain": [
       "<AxesSubplot:xlabel='rating'>"
      ]
     },
     "execution_count": 24,
     "metadata": {},
     "output_type": "execute_result"
    },
    {
     "data": {
      "image/png": "[encoded data removed]",
      "text/plain": [
       "<Figure size 432x288 with 1 Axes>"
      ]
     },
     "metadata": {
      "needs_background": "light"
     },
     "output_type": "display_data"
    }
   ],
   "source": [
    "train_data.groupby('rating')['n_votes','n_comments'].mean().plot.bar()"
   ]
  },
  {
   "cell_type": "markdown",
   "id": "9fc34d6e",
   "metadata": {
    "papermill": {
     "duration": 0.023059,
     "end_time": "2022-08-27T16:40:43.045664",
     "exception": false,
     "start_time": "2022-08-27T16:40:43.022605",
     "status": "completed"
    },
    "tags": []
   },
   "source": [
    "### Let's check length of reviews' connection with rating"
   ]
  },
  {
   "cell_type": "code",
   "execution_count": 25,
   "id": "2ddc096f",
   "metadata": {
    "execution": {
     "iopub.execute_input": "2022-08-27T16:40:43.093344Z",
     "iopub.status.busy": "2022-08-27T16:40:43.092926Z",
     "iopub.status.idle": "2022-08-27T16:40:43.846513Z",
     "shell.execute_reply": "2022-08-27T16:40:43.845212Z"
    },
    "papermill": {
     "duration": 0.781238,
     "end_time": "2022-08-27T16:40:43.849688",
     "exception": false,
     "start_time": "2022-08-27T16:40:43.068450",
     "status": "completed"
    },
    "tags": []
   },
   "outputs": [],
   "source": [
    "train_data['review_len'] = train_data['review_text'].str.len()\n"
   ]
  },
  {
   "cell_type": "code",
   "execution_count": 26,
   "id": "8485a2cc",
   "metadata": {
    "execution": {
     "iopub.execute_input": "2022-08-27T16:40:43.901469Z",
     "iopub.status.busy": "2022-08-27T16:40:43.901007Z",
     "iopub.status.idle": "2022-08-27T16:40:44.132956Z",
     "shell.execute_reply": "2022-08-27T16:40:44.132012Z"
    },
    "papermill": {
     "duration": 0.260493,
     "end_time": "2022-08-27T16:40:44.136004",
     "exception": false,
     "start_time": "2022-08-27T16:40:43.875511",
     "status": "completed"
    },
    "tags": []
   },
   "outputs": [
    {
     "data": {
      "text/plain": [
       "<AxesSubplot:xlabel='rating'>"
      ]
     },
     "execution_count": 26,
     "metadata": {},
     "output_type": "execute_result"
    },
    {
     "data": {
      "image/png": "[encoded data removed]",
      "text/plain": [
       "<Figure size 432x288 with 1 Axes>"
      ]
     },
     "metadata": {
      "needs_background": "light"
     },
     "output_type": "display_data"
    }
   ],
   "source": [
    "train_data.groupby('rating')['review_len'].mean().plot.bar()"
   ]
  },
  {
   "cell_type": "code",
   "execution_count": 27,
   "id": "b28ac83d",
   "metadata": {
    "execution": {
     "iopub.execute_input": "2022-08-27T16:40:44.187617Z",
     "iopub.status.busy": "2022-08-27T16:40:44.186754Z",
     "iopub.status.idle": "2022-08-27T16:40:45.011216Z",
     "shell.execute_reply": "2022-08-27T16:40:45.009885Z"
    },
    "papermill": {
     "duration": 0.854146,
     "end_time": "2022-08-27T16:40:45.013962",
     "exception": false,
     "start_time": "2022-08-27T16:40:44.159816",
     "status": "completed"
    },
    "tags": []
   },
   "outputs": [
    {
     "name": "stderr",
     "output_type": "stream",
     "text": [
      "/opt/conda/lib/python3.7/site-packages/ipykernel_launcher.py:2: FutureWarning: Indexing with multiple keys (implicitly converted to a tuple of keys) will be deprecated, use a list instead.\n",
      "  \n",
      "/opt/conda/lib/python3.7/site-packages/ipykernel_launcher.py:3: VisibleDeprecationWarning: Creating an ndarray from ragged nested sequences (which is a list-or-tuple of lists-or-tuples-or ndarrays with different lengths or shapes) is deprecated. If you meant to do this, you must specify 'dtype=object' when creating the ndarray.\n",
      "  This is separate from the ipykernel package so we can avoid doing imports until\n"
     ]
    },
    {
     "data": {
      "text/plain": [
       "<matplotlib.collections.PathCollection at 0x7fb085ea6c10>"
      ]
     },
     "execution_count": 27,
     "metadata": {},
     "output_type": "execute_result"
    },
    {
     "data": {
      "image/png": "[encoded data removed]",
      "text/plain": [
       "<Figure size 432x288 with 1 Axes>"
      ]
     },
     "metadata": {
      "needs_background": "light"
     },
     "output_type": "display_data"
    }
   ],
   "source": [
    "x_rev = train_data.groupby('rating')['review_len'].mean()\n",
    "y_rev = train_data.groupby('rating')['user_id', 'book_id'].nunique()\n",
    "c_rev = np.array(train_data.groupby('rating')['rating'])\n",
    "\n",
    "fig, ax = plt.subplots()\n",
    "\n",
    "ax.scatter(x = x_rev, y = y_rev['book_id'])"
   ]
  },
  {
   "cell_type": "code",
   "execution_count": 28,
   "id": "61907c9d",
   "metadata": {
    "execution": {
     "iopub.execute_input": "2022-08-27T16:40:45.065683Z",
     "iopub.status.busy": "2022-08-27T16:40:45.064860Z",
     "iopub.status.idle": "2022-08-27T16:40:45.259424Z",
     "shell.execute_reply": "2022-08-27T16:40:45.257641Z"
    },
    "papermill": {
     "duration": 0.223156,
     "end_time": "2022-08-27T16:40:45.262170",
     "exception": false,
     "start_time": "2022-08-27T16:40:45.039014",
     "status": "completed"
    },
    "tags": []
   },
   "outputs": [
    {
     "data": {
      "text/html": [
       "<div>\n",
       "<style scoped>\n",
       "    .dataframe tbody tr th:only-of-type {\n",
       "        vertical-align: middle;\n",
       "    }\n",
       "\n",
       "    .dataframe tbody tr th {\n",
       "        vertical-align: top;\n",
       "    }\n",
       "\n",
       "    .dataframe thead th {\n",
       "        text-align: right;\n",
       "    }\n",
       "</style>\n",
       "<table border=\"1\" class=\"dataframe\">\n",
       "  <thead>\n",
       "    <tr style=\"text-align: right;\">\n",
       "      <th></th>\n",
       "      <th>rating</th>\n",
       "      <th>n_votes</th>\n",
       "      <th>n_comments</th>\n",
       "      <th>review_len</th>\n",
       "    </tr>\n",
       "    <tr>\n",
       "      <th>book_id</th>\n",
       "      <th></th>\n",
       "      <th></th>\n",
       "      <th></th>\n",
       "      <th></th>\n",
       "    </tr>\n",
       "  </thead>\n",
       "  <tbody>\n",
       "    <tr>\n",
       "      <th>1</th>\n",
       "      <td>4.571795</td>\n",
       "      <td>1.815385</td>\n",
       "      <td>0.520513</td>\n",
       "      <td>678.310256</td>\n",
       "    </tr>\n",
       "    <tr>\n",
       "      <th>2</th>\n",
       "      <td>4.424390</td>\n",
       "      <td>2.670732</td>\n",
       "      <td>0.721951</td>\n",
       "      <td>737.519512</td>\n",
       "    </tr>\n",
       "    <tr>\n",
       "      <th>3</th>\n",
       "      <td>4.521862</td>\n",
       "      <td>4.568406</td>\n",
       "      <td>1.607898</td>\n",
       "      <td>625.464034</td>\n",
       "    </tr>\n",
       "    <tr>\n",
       "      <th>5</th>\n",
       "      <td>4.652083</td>\n",
       "      <td>3.268750</td>\n",
       "      <td>0.604167</td>\n",
       "      <td>591.866667</td>\n",
       "    </tr>\n",
       "    <tr>\n",
       "      <th>6</th>\n",
       "      <td>4.587444</td>\n",
       "      <td>2.876682</td>\n",
       "      <td>0.477578</td>\n",
       "      <td>671.006726</td>\n",
       "    </tr>\n",
       "  </tbody>\n",
       "</table>\n",
       "</div>"
      ],
      "text/plain": [
       "           rating   n_votes  n_comments  review_len\n",
       "book_id                                            \n",
       "1        4.571795  1.815385    0.520513  678.310256\n",
       "2        4.424390  2.670732    0.721951  737.519512\n",
       "3        4.521862  4.568406    1.607898  625.464034\n",
       "5        4.652083  3.268750    0.604167  591.866667\n",
       "6        4.587444  2.876682    0.477578  671.006726"
      ]
     },
     "execution_count": 28,
     "metadata": {},
     "output_type": "execute_result"
    }
   ],
   "source": [
    "df_book = train_data.groupby('book_id').mean()\n",
    "df_book.head()"
   ]
  },
  {
   "cell_type": "code",
   "execution_count": 29,
   "id": "92e2bc39",
   "metadata": {
    "execution": {
     "iopub.execute_input": "2022-08-27T16:40:45.310498Z",
     "iopub.status.busy": "2022-08-27T16:40:45.310041Z",
     "iopub.status.idle": "2022-08-27T16:40:45.719453Z",
     "shell.execute_reply": "2022-08-27T16:40:45.718175Z"
    },
    "papermill": {
     "duration": 0.436855,
     "end_time": "2022-08-27T16:40:45.722226",
     "exception": false,
     "start_time": "2022-08-27T16:40:45.285371",
     "status": "completed"
    },
    "tags": []
   },
   "outputs": [
    {
     "data": {
      "text/html": [
       "<div>\n",
       "<style scoped>\n",
       "    .dataframe tbody tr th:only-of-type {\n",
       "        vertical-align: middle;\n",
       "    }\n",
       "\n",
       "    .dataframe tbody tr th {\n",
       "        vertical-align: top;\n",
       "    }\n",
       "\n",
       "    .dataframe thead th {\n",
       "        text-align: right;\n",
       "    }\n",
       "</style>\n",
       "<table border=\"1\" class=\"dataframe\">\n",
       "  <thead>\n",
       "    <tr style=\"text-align: right;\">\n",
       "      <th></th>\n",
       "      <th>rating</th>\n",
       "      <th>n_votes</th>\n",
       "      <th>n_comments</th>\n",
       "      <th>review_len</th>\n",
       "      <th>user_count</th>\n",
       "    </tr>\n",
       "    <tr>\n",
       "      <th>book_id</th>\n",
       "      <th></th>\n",
       "      <th></th>\n",
       "      <th></th>\n",
       "      <th></th>\n",
       "      <th></th>\n",
       "    </tr>\n",
       "  </thead>\n",
       "  <tbody>\n",
       "    <tr>\n",
       "      <th>1</th>\n",
       "      <td>4.571795</td>\n",
       "      <td>1.815385</td>\n",
       "      <td>0.520513</td>\n",
       "      <td>678.310256</td>\n",
       "      <td>390</td>\n",
       "    </tr>\n",
       "    <tr>\n",
       "      <th>2</th>\n",
       "      <td>4.424390</td>\n",
       "      <td>2.670732</td>\n",
       "      <td>0.721951</td>\n",
       "      <td>737.519512</td>\n",
       "      <td>410</td>\n",
       "    </tr>\n",
       "    <tr>\n",
       "      <th>3</th>\n",
       "      <td>4.521862</td>\n",
       "      <td>4.568406</td>\n",
       "      <td>1.607898</td>\n",
       "      <td>625.464034</td>\n",
       "      <td>709</td>\n",
       "    </tr>\n",
       "    <tr>\n",
       "      <th>5</th>\n",
       "      <td>4.652083</td>\n",
       "      <td>3.268750</td>\n",
       "      <td>0.604167</td>\n",
       "      <td>591.866667</td>\n",
       "      <td>480</td>\n",
       "    </tr>\n",
       "    <tr>\n",
       "      <th>6</th>\n",
       "      <td>4.587444</td>\n",
       "      <td>2.876682</td>\n",
       "      <td>0.477578</td>\n",
       "      <td>671.006726</td>\n",
       "      <td>446</td>\n",
       "    </tr>\n",
       "  </tbody>\n",
       "</table>\n",
       "</div>"
      ],
      "text/plain": [
       "           rating   n_votes  n_comments  review_len  user_count\n",
       "book_id                                                        \n",
       "1        4.571795  1.815385    0.520513  678.310256         390\n",
       "2        4.424390  2.670732    0.721951  737.519512         410\n",
       "3        4.521862  4.568406    1.607898  625.464034         709\n",
       "5        4.652083  3.268750    0.604167  591.866667         480\n",
       "6        4.587444  2.876682    0.477578  671.006726         446"
      ]
     },
     "execution_count": 29,
     "metadata": {},
     "output_type": "execute_result"
    }
   ],
   "source": [
    "df_book['user_count'] = train_data.groupby('book_id').count()['user_id']\n",
    "#df_book['book'] = train_data.groupby('book_id')['rating']\n",
    "df_book.head()"
   ]
  },
  {
   "cell_type": "markdown",
   "id": "c8169cef",
   "metadata": {
    "papermill": {
     "duration": 0.022494,
     "end_time": "2022-08-27T16:40:45.768398",
     "exception": false,
     "start_time": "2022-08-27T16:40:45.745904",
     "status": "completed"
    },
    "tags": []
   },
   "source": [
    "### Scatter plot between user numbers for review and review text length red color is rating 5 and blue color is rating 0"
   ]
  },
  {
   "cell_type": "code",
   "execution_count": 30,
   "id": "7320e3bf",
   "metadata": {
    "execution": {
     "iopub.execute_input": "2022-08-27T16:40:45.818348Z",
     "iopub.status.busy": "2022-08-27T16:40:45.817900Z",
     "iopub.status.idle": "2022-08-27T16:40:46.115390Z",
     "shell.execute_reply": "2022-08-27T16:40:46.114406Z"
    },
    "papermill": {
     "duration": 0.326645,
     "end_time": "2022-08-27T16:40:46.117939",
     "exception": false,
     "start_time": "2022-08-27T16:40:45.791294",
     "status": "completed"
    },
    "tags": []
   },
   "outputs": [
    {
     "data": {
      "text/plain": [
       "<AxesSubplot:xlabel='review_len', ylabel='user_count'>"
      ]
     },
     "execution_count": 30,
     "metadata": {},
     "output_type": "execute_result"
    },
    {
     "data": {
      "image/png": "[encoded data removed]",
      "text/plain": [
       "<Figure size 432x288 with 1 Axes>"
      ]
     },
     "metadata": {
      "needs_background": "light"
     },
     "output_type": "display_data"
    }
   ],
   "source": [
    "#c_user.to_numpy()\n",
    "fig, ax = plt.subplots()\n",
    "\n",
    "df_book[df_book['rating'] == 1].plot.scatter(x='review_len', y='user_count', c='b', alpha=.5, ax=ax)\n",
    "df_book[df_book['rating'] == 2].plot.scatter(x='review_len', y='user_count', c='c', alpha=.5, ax=ax)\n",
    "df_book[df_book['rating'] == 3].plot.scatter(x='review_len', y='user_count', c='g', alpha=.5, ax=ax)\n",
    "df_book[df_book['rating'] == 4].plot.scatter(x='review_len', y='user_count', c='y', alpha=.5, ax=ax)\n",
    "df_book[df_book['rating'] == 5].plot.scatter(x='review_len', y='user_count', c='r', alpha=.5, ax=ax)"
   ]
  },
  {
   "cell_type": "code",
   "execution_count": 31,
   "id": "84ac1b29",
   "metadata": {
    "execution": {
     "iopub.execute_input": "2022-08-27T16:40:46.170958Z",
     "iopub.status.busy": "2022-08-27T16:40:46.170264Z",
     "iopub.status.idle": "2022-08-27T16:40:46.234630Z",
     "shell.execute_reply": "2022-08-27T16:40:46.233534Z"
    },
    "papermill": {
     "duration": 0.093355,
     "end_time": "2022-08-27T16:40:46.237269",
     "exception": false,
     "start_time": "2022-08-27T16:40:46.143914",
     "status": "completed"
    },
    "tags": []
   },
   "outputs": [
    {
     "data": {
      "text/plain": [
       "book_id\n",
       "1           4.571795\n",
       "2           4.424390\n",
       "3           4.521862\n",
       "5           4.652083\n",
       "6           4.587444\n",
       "              ...   \n",
       "36196052    4.500000\n",
       "36242916    3.000000\n",
       "36252773    4.000000\n",
       "36307629    0.000000\n",
       "36328685    4.250000\n",
       "Name: rating, Length: 25474, dtype: float64"
      ]
     },
     "execution_count": 31,
     "metadata": {},
     "output_type": "execute_result"
    }
   ],
   "source": [
    "train_data.groupby('book_id')['rating'].mean()"
   ]
  },
  {
   "cell_type": "code",
   "execution_count": 32,
   "id": "7dae3d9e",
   "metadata": {
    "execution": {
     "iopub.execute_input": "2022-08-27T16:40:46.287276Z",
     "iopub.status.busy": "2022-08-27T16:40:46.286194Z",
     "iopub.status.idle": "2022-08-27T16:40:46.518411Z",
     "shell.execute_reply": "2022-08-27T16:40:46.517297Z"
    },
    "papermill": {
     "duration": 0.259939,
     "end_time": "2022-08-27T16:40:46.521198",
     "exception": false,
     "start_time": "2022-08-27T16:40:46.261259",
     "status": "completed"
    },
    "tags": []
   },
   "outputs": [
    {
     "data": {
      "text/plain": [
       "<AxesSubplot:xlabel='rating'>"
      ]
     },
     "execution_count": 32,
     "metadata": {},
     "output_type": "execute_result"
    },
    {
     "data": {
      "image/png": "[encoded data removed]",
      "text/plain": [
       "<Figure size 432x288 with 1 Axes>"
      ]
     },
     "metadata": {
      "needs_background": "light"
     },
     "output_type": "display_data"
    }
   ],
   "source": [
    "train_data.groupby('rating')['review_len'].mean().plot.bar()"
   ]
  },
  {
   "cell_type": "code",
   "execution_count": 33,
   "id": "1ff48e71",
   "metadata": {
    "execution": {
     "iopub.execute_input": "2022-08-27T16:40:46.571531Z",
     "iopub.status.busy": "2022-08-27T16:40:46.570402Z",
     "iopub.status.idle": "2022-08-27T16:40:46.699894Z",
     "shell.execute_reply": "2022-08-27T16:40:46.698659Z"
    },
    "papermill": {
     "duration": 0.157559,
     "end_time": "2022-08-27T16:40:46.702563",
     "exception": false,
     "start_time": "2022-08-27T16:40:46.545004",
     "status": "completed"
    },
    "tags": []
   },
   "outputs": [
    {
     "data": {
      "text/html": [
       "<div>\n",
       "<style scoped>\n",
       "    .dataframe tbody tr th:only-of-type {\n",
       "        vertical-align: middle;\n",
       "    }\n",
       "\n",
       "    .dataframe tbody tr th {\n",
       "        vertical-align: top;\n",
       "    }\n",
       "\n",
       "    .dataframe thead th {\n",
       "        text-align: right;\n",
       "    }\n",
       "</style>\n",
       "<table border=\"1\" class=\"dataframe\">\n",
       "  <thead>\n",
       "    <tr style=\"text-align: right;\">\n",
       "      <th></th>\n",
       "      <th>book_id</th>\n",
       "      <th>rating</th>\n",
       "      <th>n_votes</th>\n",
       "      <th>n_comments</th>\n",
       "      <th>review_len</th>\n",
       "    </tr>\n",
       "  </thead>\n",
       "  <tbody>\n",
       "    <tr>\n",
       "      <th>book_id</th>\n",
       "      <td>1.000000</td>\n",
       "      <td>0.022840</td>\n",
       "      <td>0.076206</td>\n",
       "      <td>0.030067</td>\n",
       "      <td>0.095084</td>\n",
       "    </tr>\n",
       "    <tr>\n",
       "      <th>rating</th>\n",
       "      <td>0.022840</td>\n",
       "      <td>1.000000</td>\n",
       "      <td>0.006665</td>\n",
       "      <td>-0.003532</td>\n",
       "      <td>0.051364</td>\n",
       "    </tr>\n",
       "    <tr>\n",
       "      <th>n_votes</th>\n",
       "      <td>0.076206</td>\n",
       "      <td>0.006665</td>\n",
       "      <td>1.000000</td>\n",
       "      <td>0.626734</td>\n",
       "      <td>0.149190</td>\n",
       "    </tr>\n",
       "    <tr>\n",
       "      <th>n_comments</th>\n",
       "      <td>0.030067</td>\n",
       "      <td>-0.003532</td>\n",
       "      <td>0.626734</td>\n",
       "      <td>1.000000</td>\n",
       "      <td>0.169854</td>\n",
       "    </tr>\n",
       "    <tr>\n",
       "      <th>review_len</th>\n",
       "      <td>0.095084</td>\n",
       "      <td>0.051364</td>\n",
       "      <td>0.149190</td>\n",
       "      <td>0.169854</td>\n",
       "      <td>1.000000</td>\n",
       "    </tr>\n",
       "  </tbody>\n",
       "</table>\n",
       "</div>"
      ],
      "text/plain": [
       "             book_id    rating   n_votes  n_comments  review_len\n",
       "book_id     1.000000  0.022840  0.076206    0.030067    0.095084\n",
       "rating      0.022840  1.000000  0.006665   -0.003532    0.051364\n",
       "n_votes     0.076206  0.006665  1.000000    0.626734    0.149190\n",
       "n_comments  0.030067 -0.003532  0.626734    1.000000    0.169854\n",
       "review_len  0.095084  0.051364  0.149190    0.169854    1.000000"
      ]
     },
     "execution_count": 33,
     "metadata": {},
     "output_type": "execute_result"
    }
   ],
   "source": [
    "train_data.corr()"
   ]
  },
  {
   "cell_type": "markdown",
   "id": "1d39c1a1",
   "metadata": {
    "papermill": {
     "duration": 0.025549,
     "end_time": "2022-08-27T16:40:46.753440",
     "exception": false,
     "start_time": "2022-08-27T16:40:46.727891",
     "status": "completed"
    },
    "tags": []
   },
   "source": [
    "### There are no obvious corelation between rating and other numbers so we will try classfication method"
   ]
  },
  {
   "cell_type": "markdown",
   "id": "6c5e1cc0",
   "metadata": {
    "papermill": {
     "duration": 0.025682,
     "end_time": "2022-08-27T16:40:46.804068",
     "exception": false,
     "start_time": "2022-08-27T16:40:46.778386",
     "status": "completed"
    },
    "tags": []
   },
   "source": [
    "<b> Seperating train data into another train test data to test classification </b>"
   ]
  },
  {
   "cell_type": "code",
   "execution_count": 34,
   "id": "f3d6c140",
   "metadata": {
    "execution": {
     "iopub.execute_input": "2022-08-27T16:40:46.858995Z",
     "iopub.status.busy": "2022-08-27T16:40:46.858524Z",
     "iopub.status.idle": "2022-08-27T16:40:46.867421Z",
     "shell.execute_reply": "2022-08-27T16:40:46.866289Z"
    },
    "papermill": {
     "duration": 0.039991,
     "end_time": "2022-08-27T16:40:46.870502",
     "exception": false,
     "start_time": "2022-08-27T16:40:46.830511",
     "status": "completed"
    },
    "tags": []
   },
   "outputs": [],
   "source": [
    "X = df_book[['user_count', 'n_votes', 'n_comments', 'review_len']]\n",
    "y = df_book['rating'].round()\n",
    "y = np.array(y)"
   ]
  },
  {
   "cell_type": "code",
   "execution_count": 35,
   "id": "0a3c5988",
   "metadata": {
    "execution": {
     "iopub.execute_input": "2022-08-27T16:40:46.928171Z",
     "iopub.status.busy": "2022-08-27T16:40:46.927062Z",
     "iopub.status.idle": "2022-08-27T16:40:48.088313Z",
     "shell.execute_reply": "2022-08-27T16:40:48.087081Z"
    },
    "papermill": {
     "duration": 1.193298,
     "end_time": "2022-08-27T16:40:48.091301",
     "exception": false,
     "start_time": "2022-08-27T16:40:46.898003",
     "status": "completed"
    },
    "tags": []
   },
   "outputs": [],
   "source": [
    "from sklearn.model_selection import train_test_split\n",
    "X_train_try, X_test_try, y_train_try, y_test_try = train_test_split(X, y, test_size=0.2)"
   ]
  },
  {
   "cell_type": "markdown",
   "id": "dee18f4a",
   "metadata": {
    "papermill": {
     "duration": 0.026746,
     "end_time": "2022-08-27T16:40:48.144350",
     "exception": false,
     "start_time": "2022-08-27T16:40:48.117604",
     "status": "completed"
    },
    "tags": []
   },
   "source": [
    "### We are applying  k-Nearest-Neighbors Classifier (KNN) classification"
   ]
  },
  {
   "cell_type": "code",
   "execution_count": 36,
   "id": "0274b849",
   "metadata": {
    "execution": {
     "iopub.execute_input": "2022-08-27T16:40:48.195415Z",
     "iopub.status.busy": "2022-08-27T16:40:48.194992Z",
     "iopub.status.idle": "2022-08-27T16:40:48.520016Z",
     "shell.execute_reply": "2022-08-27T16:40:48.518662Z"
    },
    "papermill": {
     "duration": 0.354137,
     "end_time": "2022-08-27T16:40:48.522837",
     "exception": false,
     "start_time": "2022-08-27T16:40:48.168700",
     "status": "completed"
    },
    "tags": []
   },
   "outputs": [
    {
     "data": {
      "text/plain": [
       "0.5313052011776251"
      ]
     },
     "execution_count": 36,
     "metadata": {},
     "output_type": "execute_result"
    }
   ],
   "source": [
    "from sklearn.neighbors import KNeighborsClassifier\n",
    "from sklearn.metrics import accuracy_score\n",
    "\n",
    "neigh = KNeighborsClassifier()\n",
    "neigh.fit(X_train_try, y_train_try)\n",
    "y_pred_try = neigh.predict(X_test_try)\n",
    "accuracy_score(y_test_try, y_pred_try)"
   ]
  },
  {
   "cell_type": "markdown",
   "id": "6093e4ba",
   "metadata": {
    "papermill": {
     "duration": 0.024788,
     "end_time": "2022-08-27T16:40:48.573117",
     "exception": false,
     "start_time": "2022-08-27T16:40:48.548329",
     "status": "completed"
    },
    "tags": []
   },
   "source": [
    "### Finding best neigbors numbers"
   ]
  },
  {
   "cell_type": "code",
   "execution_count": 37,
   "id": "00f049de",
   "metadata": {
    "execution": {
     "iopub.execute_input": "2022-08-27T16:40:48.623798Z",
     "iopub.status.busy": "2022-08-27T16:40:48.623138Z",
     "iopub.status.idle": "2022-08-27T16:43:50.505873Z",
     "shell.execute_reply": "2022-08-27T16:43:50.504578Z"
    },
    "papermill": {
     "duration": 181.911399,
     "end_time": "2022-08-27T16:43:50.508804",
     "exception": false,
     "start_time": "2022-08-27T16:40:48.597405",
     "status": "completed"
    },
    "tags": []
   },
   "outputs": [],
   "source": [
    "scores = []\n",
    "for k in range(1, 400):\n",
    "    neigh = KNeighborsClassifier(n_neighbors=k)\n",
    "    neigh.fit(X_train_try, y_train_try)\n",
    "    y_pred_try = neigh.predict(X_test_try)\n",
    "    score = accuracy_score(y_test_try, y_pred_try)\n",
    "    scores.append(score)"
   ]
  },
  {
   "cell_type": "code",
   "execution_count": 38,
   "id": "c15fc681",
   "metadata": {
    "execution": {
     "iopub.execute_input": "2022-08-27T16:43:50.560765Z",
     "iopub.status.busy": "2022-08-27T16:43:50.560127Z",
     "iopub.status.idle": "2022-08-27T16:43:50.780541Z",
     "shell.execute_reply": "2022-08-27T16:43:50.779583Z"
    },
    "papermill": {
     "duration": 0.249053,
     "end_time": "2022-08-27T16:43:50.782934",
     "exception": false,
     "start_time": "2022-08-27T16:43:50.533881",
     "status": "completed"
    },
    "tags": []
   },
   "outputs": [
    {
     "data": {
      "text/plain": [
       "[<matplotlib.lines.Line2D at 0x7fb05db21c10>]"
      ]
     },
     "execution_count": 38,
     "metadata": {},
     "output_type": "execute_result"
    },
    {
     "data": {
      "image/png": "[encoded data removed]",
      "text/plain": [
       "<Figure size 432x288 with 1 Axes>"
      ]
     },
     "metadata": {
      "needs_background": "light"
     },
     "output_type": "display_data"
    }
   ],
   "source": [
    "fig, ax = plt.subplots()\n",
    "\n",
    "ax.plot(scores)"
   ]
  },
  {
   "cell_type": "markdown",
   "id": "ab1bf3a4",
   "metadata": {
    "papermill": {
     "duration": 0.025633,
     "end_time": "2022-08-27T16:43:50.833857",
     "exception": false,
     "start_time": "2022-08-27T16:43:50.808224",
     "status": "completed"
    },
    "tags": []
   },
   "source": [
    "After n_neigbors =200 there is no big change so we can take k as 200"
   ]
  },
  {
   "cell_type": "markdown",
   "id": "64d164bc",
   "metadata": {
    "papermill": {
     "duration": 0.024741,
     "end_time": "2022-08-27T16:43:50.884529",
     "exception": false,
     "start_time": "2022-08-27T16:43:50.859788",
     "status": "completed"
    },
    "tags": []
   },
   "source": [
    "### Now we are doing the same thing for whole train dataframe"
   ]
  },
  {
   "cell_type": "code",
   "execution_count": 39,
   "id": "93367e2f",
   "metadata": {
    "execution": {
     "iopub.execute_input": "2022-08-27T16:43:50.937862Z",
     "iopub.status.busy": "2022-08-27T16:43:50.937406Z",
     "iopub.status.idle": "2022-08-27T16:43:51.507888Z",
     "shell.execute_reply": "2022-08-27T16:43:51.506715Z"
    },
    "papermill": {
     "duration": 0.601431,
     "end_time": "2022-08-27T16:43:51.510664",
     "exception": false,
     "start_time": "2022-08-27T16:43:50.909233",
     "status": "completed"
    },
    "tags": []
   },
   "outputs": [],
   "source": [
    "df_book = train_data.groupby('book_id').mean()\n",
    "df_book['user_count'] = train_data.groupby('book_id').count()['user_id']\n",
    "X_train = df_book[['user_count', 'n_votes', 'n_comments', 'review_len']]\n",
    "y = df_book['rating'].round()\n",
    "y_train = np.array(y)"
   ]
  },
  {
   "cell_type": "markdown",
   "id": "cc25e357",
   "metadata": {
    "papermill": {
     "duration": 0.024395,
     "end_time": "2022-08-27T16:43:51.560020",
     "exception": false,
     "start_time": "2022-08-27T16:43:51.535625",
     "status": "completed"
    },
    "tags": []
   },
   "source": [
    "### Uploading X_test"
   ]
  },
  {
   "cell_type": "code",
   "execution_count": 40,
   "id": "edc9ec65",
   "metadata": {
    "execution": {
     "iopub.execute_input": "2022-08-27T16:43:51.613333Z",
     "iopub.status.busy": "2022-08-27T16:43:51.612868Z",
     "iopub.status.idle": "2022-08-27T16:44:06.398259Z",
     "shell.execute_reply": "2022-08-27T16:44:06.397111Z"
    },
    "papermill": {
     "duration": 14.816194,
     "end_time": "2022-08-27T16:44:06.402060",
     "exception": false,
     "start_time": "2022-08-27T16:43:51.585866",
     "status": "completed"
    },
    "tags": []
   },
   "outputs": [
    {
     "data": {
      "text/html": [
       "<div>\n",
       "<style scoped>\n",
       "    .dataframe tbody tr th:only-of-type {\n",
       "        vertical-align: middle;\n",
       "    }\n",
       "\n",
       "    .dataframe tbody tr th {\n",
       "        vertical-align: top;\n",
       "    }\n",
       "\n",
       "    .dataframe thead th {\n",
       "        text-align: right;\n",
       "    }\n",
       "</style>\n",
       "<table border=\"1\" class=\"dataframe\">\n",
       "  <thead>\n",
       "    <tr style=\"text-align: right;\">\n",
       "      <th></th>\n",
       "      <th>user_id</th>\n",
       "      <th>book_id</th>\n",
       "      <th>review_id</th>\n",
       "      <th>review_text</th>\n",
       "      <th>date_added</th>\n",
       "      <th>date_updated</th>\n",
       "      <th>read_at</th>\n",
       "      <th>started_at</th>\n",
       "      <th>n_votes</th>\n",
       "      <th>n_comments</th>\n",
       "    </tr>\n",
       "  </thead>\n",
       "  <tbody>\n",
       "    <tr>\n",
       "      <th>0</th>\n",
       "      <td>b9450d1c1f97f891c392b1105959b56e</td>\n",
       "      <td>7092507</td>\n",
       "      <td>5c4df7e70e9b438c761f07a4620ccb7c</td>\n",
       "      <td>** spoiler alert ** \\n This is definitely one ...</td>\n",
       "      <td>Sat Nov 10 06:06:13 -0800 2012</td>\n",
       "      <td>Sun Nov 11 05:38:36 -0800 2012</td>\n",
       "      <td>Sun Nov 11 05:38:36 -0800 2012</td>\n",
       "      <td>Sat Nov 10 00:00:00 -0800 2012</td>\n",
       "      <td>1</td>\n",
       "      <td>0</td>\n",
       "    </tr>\n",
       "    <tr>\n",
       "      <th>1</th>\n",
       "      <td>b9450d1c1f97f891c392b1105959b56e</td>\n",
       "      <td>5576654</td>\n",
       "      <td>8eaeaf13213eeb16ad879a2a2591bbe5</td>\n",
       "      <td>** spoiler alert ** \\n \"You are what you drink...</td>\n",
       "      <td>Fri Nov 09 21:55:16 -0800 2012</td>\n",
       "      <td>Sat Nov 10 05:41:49 -0800 2012</td>\n",
       "      <td>Sat Nov 10 05:41:49 -0800 2012</td>\n",
       "      <td>Fri Nov 09 00:00:00 -0800 2012</td>\n",
       "      <td>1</td>\n",
       "      <td>0</td>\n",
       "    </tr>\n",
       "    <tr>\n",
       "      <th>2</th>\n",
       "      <td>b9450d1c1f97f891c392b1105959b56e</td>\n",
       "      <td>15754052</td>\n",
       "      <td>dce649b733c153ba5363a0413cac988f</td>\n",
       "      <td>Roar is one of my favorite characters in Under...</td>\n",
       "      <td>Fri Nov 09 00:25:50 -0800 2012</td>\n",
       "      <td>Sat Nov 10 06:14:10 -0800 2012</td>\n",
       "      <td>Sat Nov 10 06:14:10 -0800 2012</td>\n",
       "      <td>Fri Nov 09 00:00:00 -0800 2012</td>\n",
       "      <td>0</td>\n",
       "      <td>0</td>\n",
       "    </tr>\n",
       "    <tr>\n",
       "      <th>3</th>\n",
       "      <td>b9450d1c1f97f891c392b1105959b56e</td>\n",
       "      <td>17020</td>\n",
       "      <td>8a46df0bb997269d6834f9437a4b0a77</td>\n",
       "      <td>** spoiler alert ** \\n If you feel like travel...</td>\n",
       "      <td>Thu Nov 01 00:28:39 -0700 2012</td>\n",
       "      <td>Sat Nov 03 11:35:22 -0700 2012</td>\n",
       "      <td>Sat Nov 03 11:35:22 -0700 2012</td>\n",
       "      <td>Thu Nov 01 00:00:00 -0700 2012</td>\n",
       "      <td>0</td>\n",
       "      <td>0</td>\n",
       "    </tr>\n",
       "    <tr>\n",
       "      <th>4</th>\n",
       "      <td>b9450d1c1f97f891c392b1105959b56e</td>\n",
       "      <td>12551082</td>\n",
       "      <td>d11d3091e22f1cf3cb865598de197599</td>\n",
       "      <td>3.5 stars \\n I read and enjoyed the first two ...</td>\n",
       "      <td>Thu Oct 18 00:57:00 -0700 2012</td>\n",
       "      <td>Mon Apr 01 23:00:51 -0700 2013</td>\n",
       "      <td>Sat Mar 30 00:00:00 -0700 2013</td>\n",
       "      <td>Fri Mar 29 00:00:00 -0700 2013</td>\n",
       "      <td>0</td>\n",
       "      <td>0</td>\n",
       "    </tr>\n",
       "  </tbody>\n",
       "</table>\n",
       "</div>"
      ],
      "text/plain": [
       "                            user_id   book_id  \\\n",
       "0  b9450d1c1f97f891c392b1105959b56e   7092507   \n",
       "1  b9450d1c1f97f891c392b1105959b56e   5576654   \n",
       "2  b9450d1c1f97f891c392b1105959b56e  15754052   \n",
       "3  b9450d1c1f97f891c392b1105959b56e     17020   \n",
       "4  b9450d1c1f97f891c392b1105959b56e  12551082   \n",
       "\n",
       "                          review_id  \\\n",
       "0  5c4df7e70e9b438c761f07a4620ccb7c   \n",
       "1  8eaeaf13213eeb16ad879a2a2591bbe5   \n",
       "2  dce649b733c153ba5363a0413cac988f   \n",
       "3  8a46df0bb997269d6834f9437a4b0a77   \n",
       "4  d11d3091e22f1cf3cb865598de197599   \n",
       "\n",
       "                                         review_text  \\\n",
       "0  ** spoiler alert ** \\n This is definitely one ...   \n",
       "1  ** spoiler alert ** \\n \"You are what you drink...   \n",
       "2  Roar is one of my favorite characters in Under...   \n",
       "3  ** spoiler alert ** \\n If you feel like travel...   \n",
       "4  3.5 stars \\n I read and enjoyed the first two ...   \n",
       "\n",
       "                       date_added                    date_updated  \\\n",
       "0  Sat Nov 10 06:06:13 -0800 2012  Sun Nov 11 05:38:36 -0800 2012   \n",
       "1  Fri Nov 09 21:55:16 -0800 2012  Sat Nov 10 05:41:49 -0800 2012   \n",
       "2  Fri Nov 09 00:25:50 -0800 2012  Sat Nov 10 06:14:10 -0800 2012   \n",
       "3  Thu Nov 01 00:28:39 -0700 2012  Sat Nov 03 11:35:22 -0700 2012   \n",
       "4  Thu Oct 18 00:57:00 -0700 2012  Mon Apr 01 23:00:51 -0700 2013   \n",
       "\n",
       "                          read_at                      started_at  n_votes  \\\n",
       "0  Sun Nov 11 05:38:36 -0800 2012  Sat Nov 10 00:00:00 -0800 2012        1   \n",
       "1  Sat Nov 10 05:41:49 -0800 2012  Fri Nov 09 00:00:00 -0800 2012        1   \n",
       "2  Sat Nov 10 06:14:10 -0800 2012  Fri Nov 09 00:00:00 -0800 2012        0   \n",
       "3  Sat Nov 03 11:35:22 -0700 2012  Thu Nov 01 00:00:00 -0700 2012        0   \n",
       "4  Sat Mar 30 00:00:00 -0700 2013  Fri Mar 29 00:00:00 -0700 2013        0   \n",
       "\n",
       "   n_comments  \n",
       "0           0  \n",
       "1           0  \n",
       "2           0  \n",
       "3           0  \n",
       "4           0  "
      ]
     },
     "execution_count": 40,
     "metadata": {},
     "output_type": "execute_result"
    }
   ],
   "source": [
    "test_data = pd.read_csv('../input/goodreads-books-reviews-290312/goodreads_test.csv')\n",
    "test_data.head()"
   ]
  },
  {
   "cell_type": "markdown",
   "id": "f8ba38de",
   "metadata": {
    "papermill": {
     "duration": 0.026602,
     "end_time": "2022-08-27T16:44:06.466311",
     "exception": false,
     "start_time": "2022-08-27T16:44:06.439709",
     "status": "completed"
    },
    "tags": []
   },
   "source": [
    "Doing the same procedures"
   ]
  },
  {
   "cell_type": "code",
   "execution_count": 41,
   "id": "56dacf37",
   "metadata": {
    "execution": {
     "iopub.execute_input": "2022-08-27T16:44:06.521168Z",
     "iopub.status.busy": "2022-08-27T16:44:06.520144Z",
     "iopub.status.idle": "2022-08-27T16:44:07.793515Z",
     "shell.execute_reply": "2022-08-27T16:44:07.790409Z"
    },
    "papermill": {
     "duration": 1.308691,
     "end_time": "2022-08-27T16:44:07.800584",
     "exception": false,
     "start_time": "2022-08-27T16:44:06.491893",
     "status": "completed"
    },
    "tags": []
   },
   "outputs": [],
   "source": [
    "#Droping columns which are not used\n",
    "test_data.drop(['date_added','date_updated','read_at','started_at'],axis=1, inplace=True)\n",
    "\n",
    "# Converting negative comments,votes to positive\n",
    "for n in test_data['n_comments']:\n",
    "     if n < 0:\n",
    "        test_data['n_comments'] = test_data['n_comments'].replace(n,-n)\n",
    "        \n",
    "for n in test_data['n_votes']:\n",
    "     if n < 0:\n",
    "        test_data['n_votes'] = test_data['n_votes'].replace(n,-n)        \n",
    " \n",
    " # Finding review text length\n",
    "test_data['review_len'] = test_data['review_text'].str.len()\n",
    "\n",
    "# Grouping data by book and take average of votes, comments and numbers of users who reviewed\n",
    "df_book = test_data.groupby('book_id').mean()\n",
    "df_book['user_count'] = test_data.groupby('book_id').count()['user_id']\n",
    "X_test = df_book[['user_count', 'n_votes', 'n_comments', 'review_len']]"
   ]
  },
  {
   "cell_type": "markdown",
   "id": "f8efa9b4",
   "metadata": {
    "papermill": {
     "duration": 0.034822,
     "end_time": "2022-08-27T16:44:07.868694",
     "exception": false,
     "start_time": "2022-08-27T16:44:07.833872",
     "status": "completed"
    },
    "tags": []
   },
   "source": [
    "### Applying  k-Nearest-Neighbors Classifier (KNN) to the whole train data"
   ]
  },
  {
   "cell_type": "code",
   "execution_count": 42,
   "id": "2379add5",
   "metadata": {
    "execution": {
     "iopub.execute_input": "2022-08-27T16:44:07.928936Z",
     "iopub.status.busy": "2022-08-27T16:44:07.927700Z",
     "iopub.status.idle": "2022-08-27T16:44:11.533523Z",
     "shell.execute_reply": "2022-08-27T16:44:11.532316Z"
    },
    "papermill": {
     "duration": 3.639656,
     "end_time": "2022-08-27T16:44:11.536724",
     "exception": false,
     "start_time": "2022-08-27T16:44:07.897068",
     "status": "completed"
    },
    "tags": []
   },
   "outputs": [],
   "source": [
    "neigh1 = KNeighborsClassifier(n_neighbors = 200)\n",
    "neigh1.fit(X_train, y_train)\n",
    "y_pred = neigh1.predict(X_test)"
   ]
  },
  {
   "cell_type": "markdown",
   "id": "a9c5b51a",
   "metadata": {
    "papermill": {
     "duration": 0.026608,
     "end_time": "2022-08-27T16:44:11.590628",
     "exception": false,
     "start_time": "2022-08-27T16:44:11.564020",
     "status": "completed"
    },
    "tags": []
   },
   "source": [
    "### Now we have ratings associated with book_id but we need to associate them with review_id for submission"
   ]
  },
  {
   "cell_type": "code",
   "execution_count": 43,
   "id": "b46749df",
   "metadata": {
    "execution": {
     "iopub.execute_input": "2022-08-27T16:44:11.647086Z",
     "iopub.status.busy": "2022-08-27T16:44:11.646663Z",
     "iopub.status.idle": "2022-08-27T16:44:11.655318Z",
     "shell.execute_reply": "2022-08-27T16:44:11.653878Z"
    },
    "papermill": {
     "duration": 0.041437,
     "end_time": "2022-08-27T16:44:11.658506",
     "exception": false,
     "start_time": "2022-08-27T16:44:11.617069",
     "status": "completed"
    },
    "tags": []
   },
   "outputs": [
    {
     "data": {
      "text/plain": [
       "((25399,), 25399)"
      ]
     },
     "execution_count": 43,
     "metadata": {},
     "output_type": "execute_result"
    }
   ],
   "source": [
    "y_pred.shape, len(X_test)"
   ]
  },
  {
   "cell_type": "code",
   "execution_count": 44,
   "id": "7c4c29e1",
   "metadata": {
    "execution": {
     "iopub.execute_input": "2022-08-27T16:44:11.710860Z",
     "iopub.status.busy": "2022-08-27T16:44:11.710409Z",
     "iopub.status.idle": "2022-08-27T16:44:11.735085Z",
     "shell.execute_reply": "2022-08-27T16:44:11.733013Z"
    },
    "papermill": {
     "duration": 0.054474,
     "end_time": "2022-08-27T16:44:11.738340",
     "exception": false,
     "start_time": "2022-08-27T16:44:11.683866",
     "status": "completed"
    },
    "tags": []
   },
   "outputs": [
    {
     "name": "stderr",
     "output_type": "stream",
     "text": [
      "/opt/conda/lib/python3.7/site-packages/pandas/core/indexing.py:1667: SettingWithCopyWarning: \n",
      "A value is trying to be set on a copy of a slice from a DataFrame.\n",
      "Try using .loc[row_indexer,col_indexer] = value instead\n",
      "\n",
      "See the caveats in the documentation: https://pandas.pydata.org/pandas-docs/stable/user_guide/indexing.html#returning-a-view-versus-a-copy\n",
      "  self.obj[key] = value\n"
     ]
    },
    {
     "data": {
      "text/html": [
       "<div>\n",
       "<style scoped>\n",
       "    .dataframe tbody tr th:only-of-type {\n",
       "        vertical-align: middle;\n",
       "    }\n",
       "\n",
       "    .dataframe tbody tr th {\n",
       "        vertical-align: top;\n",
       "    }\n",
       "\n",
       "    .dataframe thead th {\n",
       "        text-align: right;\n",
       "    }\n",
       "</style>\n",
       "<table border=\"1\" class=\"dataframe\">\n",
       "  <thead>\n",
       "    <tr style=\"text-align: right;\">\n",
       "      <th></th>\n",
       "      <th>user_count</th>\n",
       "      <th>n_votes</th>\n",
       "      <th>n_comments</th>\n",
       "      <th>review_len</th>\n",
       "      <th>rating</th>\n",
       "    </tr>\n",
       "    <tr>\n",
       "      <th>book_id</th>\n",
       "      <th></th>\n",
       "      <th></th>\n",
       "      <th></th>\n",
       "      <th></th>\n",
       "      <th></th>\n",
       "    </tr>\n",
       "  </thead>\n",
       "  <tbody>\n",
       "    <tr>\n",
       "      <th>36196052</th>\n",
       "      <td>5</td>\n",
       "      <td>3.600000</td>\n",
       "      <td>0.000000</td>\n",
       "      <td>582.400000</td>\n",
       "      <td>4</td>\n",
       "    </tr>\n",
       "    <tr>\n",
       "      <th>36242916</th>\n",
       "      <td>3</td>\n",
       "      <td>2.666667</td>\n",
       "      <td>0.000000</td>\n",
       "      <td>1068.333333</td>\n",
       "      <td>4</td>\n",
       "    </tr>\n",
       "    <tr>\n",
       "      <th>36252773</th>\n",
       "      <td>6</td>\n",
       "      <td>29.833333</td>\n",
       "      <td>6.666667</td>\n",
       "      <td>1611.666667</td>\n",
       "      <td>4</td>\n",
       "    </tr>\n",
       "    <tr>\n",
       "      <th>36307629</th>\n",
       "      <td>22</td>\n",
       "      <td>37.000000</td>\n",
       "      <td>2.909091</td>\n",
       "      <td>144.863636</td>\n",
       "      <td>4</td>\n",
       "    </tr>\n",
       "    <tr>\n",
       "      <th>36328685</th>\n",
       "      <td>2</td>\n",
       "      <td>20.500000</td>\n",
       "      <td>1.500000</td>\n",
       "      <td>1276.500000</td>\n",
       "      <td>4</td>\n",
       "    </tr>\n",
       "  </tbody>\n",
       "</table>\n",
       "</div>"
      ],
      "text/plain": [
       "          user_count    n_votes  n_comments   review_len  rating\n",
       "book_id                                                         \n",
       "36196052           5   3.600000    0.000000   582.400000       4\n",
       "36242916           3   2.666667    0.000000  1068.333333       4\n",
       "36252773           6  29.833333    6.666667  1611.666667       4\n",
       "36307629          22  37.000000    2.909091   144.863636       4\n",
       "36328685           2  20.500000    1.500000  1276.500000       4"
      ]
     },
     "execution_count": 44,
     "metadata": {},
     "output_type": "execute_result"
    }
   ],
   "source": [
    "y_rating = pd.DataFrame(y_pred, columns=['rating'],dtype=int)\n",
    "X_test.loc[:,'rating'] = y_pred.astype(int)\n",
    "X_test.tail()"
   ]
  },
  {
   "cell_type": "code",
   "execution_count": 45,
   "id": "e6c34866",
   "metadata": {
    "execution": {
     "iopub.execute_input": "2022-08-27T16:44:11.793045Z",
     "iopub.status.busy": "2022-08-27T16:44:11.792439Z",
     "iopub.status.idle": "2022-08-27T16:44:11.810079Z",
     "shell.execute_reply": "2022-08-27T16:44:11.808786Z"
    },
    "papermill": {
     "duration": 0.048653,
     "end_time": "2022-08-27T16:44:11.813944",
     "exception": false,
     "start_time": "2022-08-27T16:44:11.765291",
     "status": "completed"
    },
    "tags": []
   },
   "outputs": [
    {
     "data": {
      "text/plain": [
       "count    25399.000000\n",
       "mean         3.993031\n",
       "std          0.083189\n",
       "min          3.000000\n",
       "25%          4.000000\n",
       "50%          4.000000\n",
       "75%          4.000000\n",
       "max          4.000000\n",
       "Name: rating, dtype: float64"
      ]
     },
     "execution_count": 45,
     "metadata": {},
     "output_type": "execute_result"
    }
   ],
   "source": [
    "X_test['rating'].describe()"
   ]
  },
  {
   "cell_type": "code",
   "execution_count": 46,
   "id": "dc438379",
   "metadata": {
    "execution": {
     "iopub.execute_input": "2022-08-27T16:44:11.892089Z",
     "iopub.status.busy": "2022-08-27T16:44:11.890876Z",
     "iopub.status.idle": "2022-08-27T16:44:12.794141Z",
     "shell.execute_reply": "2022-08-27T16:44:12.793070Z"
    },
    "papermill": {
     "duration": 0.933547,
     "end_time": "2022-08-27T16:44:12.797007",
     "exception": false,
     "start_time": "2022-08-27T16:44:11.863460",
     "status": "completed"
    },
    "tags": []
   },
   "outputs": [],
   "source": [
    "sub_data = pd.read_csv(\"../input/goodreads-books-reviews-290312/goodreads_sample_submission.csv\")"
   ]
  },
  {
   "cell_type": "code",
   "execution_count": 47,
   "id": "95a851c5",
   "metadata": {
    "execution": {
     "iopub.execute_input": "2022-08-27T16:44:12.851025Z",
     "iopub.status.busy": "2022-08-27T16:44:12.850567Z",
     "iopub.status.idle": "2022-08-27T16:44:12.866376Z",
     "shell.execute_reply": "2022-08-27T16:44:12.865087Z"
    },
    "papermill": {
     "duration": 0.045581,
     "end_time": "2022-08-27T16:44:12.868898",
     "exception": false,
     "start_time": "2022-08-27T16:44:12.823317",
     "status": "completed"
    },
    "tags": []
   },
   "outputs": [],
   "source": [
    "df_sub = test_data[['review_id','book_id']]"
   ]
  },
  {
   "cell_type": "code",
   "execution_count": 48,
   "id": "de387131",
   "metadata": {
    "execution": {
     "iopub.execute_input": "2022-08-27T16:44:12.922162Z",
     "iopub.status.busy": "2022-08-27T16:44:12.921459Z",
     "iopub.status.idle": "2022-08-27T16:44:13.062781Z",
     "shell.execute_reply": "2022-08-27T16:44:13.061406Z"
    },
    "papermill": {
     "duration": 0.171431,
     "end_time": "2022-08-27T16:44:13.065707",
     "exception": false,
     "start_time": "2022-08-27T16:44:12.894276",
     "status": "completed"
    },
    "tags": []
   },
   "outputs": [
    {
     "data": {
      "text/html": [
       "<div>\n",
       "<style scoped>\n",
       "    .dataframe tbody tr th:only-of-type {\n",
       "        vertical-align: middle;\n",
       "    }\n",
       "\n",
       "    .dataframe tbody tr th {\n",
       "        vertical-align: top;\n",
       "    }\n",
       "\n",
       "    .dataframe thead th {\n",
       "        text-align: right;\n",
       "    }\n",
       "</style>\n",
       "<table border=\"1\" class=\"dataframe\">\n",
       "  <thead>\n",
       "    <tr style=\"text-align: right;\">\n",
       "      <th></th>\n",
       "      <th>review_id</th>\n",
       "      <th>book_id</th>\n",
       "      <th>user_count</th>\n",
       "      <th>n_votes</th>\n",
       "      <th>n_comments</th>\n",
       "      <th>review_len</th>\n",
       "      <th>rating</th>\n",
       "    </tr>\n",
       "  </thead>\n",
       "  <tbody>\n",
       "    <tr>\n",
       "      <th>0</th>\n",
       "      <td>5c4df7e70e9b438c761f07a4620ccb7c</td>\n",
       "      <td>7092507</td>\n",
       "      <td>11</td>\n",
       "      <td>0.545455</td>\n",
       "      <td>0.090909</td>\n",
       "      <td>832.818182</td>\n",
       "      <td>4</td>\n",
       "    </tr>\n",
       "    <tr>\n",
       "      <th>1</th>\n",
       "      <td>8eaeaf13213eeb16ad879a2a2591bbe5</td>\n",
       "      <td>5576654</td>\n",
       "      <td>16</td>\n",
       "      <td>2.000000</td>\n",
       "      <td>0.062500</td>\n",
       "      <td>768.375000</td>\n",
       "      <td>4</td>\n",
       "    </tr>\n",
       "    <tr>\n",
       "      <th>2</th>\n",
       "      <td>dce649b733c153ba5363a0413cac988f</td>\n",
       "      <td>15754052</td>\n",
       "      <td>55</td>\n",
       "      <td>1.036364</td>\n",
       "      <td>0.163636</td>\n",
       "      <td>581.109091</td>\n",
       "      <td>4</td>\n",
       "    </tr>\n",
       "    <tr>\n",
       "      <th>3</th>\n",
       "      <td>8a46df0bb997269d6834f9437a4b0a77</td>\n",
       "      <td>17020</td>\n",
       "      <td>81</td>\n",
       "      <td>0.296296</td>\n",
       "      <td>0.209877</td>\n",
       "      <td>1051.716049</td>\n",
       "      <td>4</td>\n",
       "    </tr>\n",
       "    <tr>\n",
       "      <th>4</th>\n",
       "      <td>d11d3091e22f1cf3cb865598de197599</td>\n",
       "      <td>12551082</td>\n",
       "      <td>40</td>\n",
       "      <td>1.300000</td>\n",
       "      <td>0.450000</td>\n",
       "      <td>1474.275000</td>\n",
       "      <td>4</td>\n",
       "    </tr>\n",
       "  </tbody>\n",
       "</table>\n",
       "</div>"
      ],
      "text/plain": [
       "                          review_id   book_id  user_count   n_votes  \\\n",
       "0  5c4df7e70e9b438c761f07a4620ccb7c   7092507          11  0.545455   \n",
       "1  8eaeaf13213eeb16ad879a2a2591bbe5   5576654          16  2.000000   \n",
       "2  dce649b733c153ba5363a0413cac988f  15754052          55  1.036364   \n",
       "3  8a46df0bb997269d6834f9437a4b0a77     17020          81  0.296296   \n",
       "4  d11d3091e22f1cf3cb865598de197599  12551082          40  1.300000   \n",
       "\n",
       "   n_comments   review_len  rating  \n",
       "0    0.090909   832.818182       4  \n",
       "1    0.062500   768.375000       4  \n",
       "2    0.163636   581.109091       4  \n",
       "3    0.209877  1051.716049       4  \n",
       "4    0.450000  1474.275000       4  "
      ]
     },
     "execution_count": 48,
     "metadata": {},
     "output_type": "execute_result"
    }
   ],
   "source": [
    "result = pd.merge(df_sub, X_test, how = 'left', on = ['book_id'])\n",
    "result.head()"
   ]
  },
  {
   "cell_type": "code",
   "execution_count": 49,
   "id": "20364975",
   "metadata": {
    "execution": {
     "iopub.execute_input": "2022-08-27T16:44:13.121140Z",
     "iopub.status.busy": "2022-08-27T16:44:13.120352Z",
     "iopub.status.idle": "2022-08-27T16:44:13.284147Z",
     "shell.execute_reply": "2022-08-27T16:44:13.282930Z"
    },
    "papermill": {
     "duration": 0.194502,
     "end_time": "2022-08-27T16:44:13.286813",
     "exception": false,
     "start_time": "2022-08-27T16:44:13.092311",
     "status": "completed"
    },
    "tags": []
   },
   "outputs": [
    {
     "data": {
      "text/html": [
       "<div>\n",
       "<style scoped>\n",
       "    .dataframe tbody tr th:only-of-type {\n",
       "        vertical-align: middle;\n",
       "    }\n",
       "\n",
       "    .dataframe tbody tr th {\n",
       "        vertical-align: top;\n",
       "    }\n",
       "\n",
       "    .dataframe thead th {\n",
       "        text-align: right;\n",
       "    }\n",
       "</style>\n",
       "<table border=\"1\" class=\"dataframe\">\n",
       "  <thead>\n",
       "    <tr style=\"text-align: right;\">\n",
       "      <th></th>\n",
       "      <th>book_id</th>\n",
       "      <th>user_count</th>\n",
       "      <th>n_votes</th>\n",
       "      <th>n_comments</th>\n",
       "      <th>review_len</th>\n",
       "      <th>rating</th>\n",
       "    </tr>\n",
       "  </thead>\n",
       "  <tbody>\n",
       "    <tr>\n",
       "      <th>count</th>\n",
       "      <td>4.780330e+05</td>\n",
       "      <td>478033.000000</td>\n",
       "      <td>478033.000000</td>\n",
       "      <td>478033.000000</td>\n",
       "      <td>478033.000000</td>\n",
       "      <td>478033.000000</td>\n",
       "    </tr>\n",
       "    <tr>\n",
       "      <th>mean</th>\n",
       "      <td>1.320363e+07</td>\n",
       "      <td>90.333774</td>\n",
       "      <td>2.721216</td>\n",
       "      <td>0.798006</td>\n",
       "      <td>1076.183197</td>\n",
       "      <td>3.995161</td>\n",
       "    </tr>\n",
       "    <tr>\n",
       "      <th>std</th>\n",
       "      <td>9.071462e+06</td>\n",
       "      <td>132.473632</td>\n",
       "      <td>3.325982</td>\n",
       "      <td>1.105773</td>\n",
       "      <td>413.388117</td>\n",
       "      <td>0.069391</td>\n",
       "    </tr>\n",
       "    <tr>\n",
       "      <th>min</th>\n",
       "      <td>1.000000e+00</td>\n",
       "      <td>1.000000</td>\n",
       "      <td>0.000000</td>\n",
       "      <td>0.000000</td>\n",
       "      <td>9.000000</td>\n",
       "      <td>3.000000</td>\n",
       "    </tr>\n",
       "    <tr>\n",
       "      <th>25%</th>\n",
       "      <td>6.489636e+06</td>\n",
       "      <td>15.000000</td>\n",
       "      <td>0.868657</td>\n",
       "      <td>0.238806</td>\n",
       "      <td>803.095238</td>\n",
       "      <td>4.000000</td>\n",
       "    </tr>\n",
       "    <tr>\n",
       "      <th>50%</th>\n",
       "      <td>1.320676e+07</td>\n",
       "      <td>38.000000</td>\n",
       "      <td>1.766667</td>\n",
       "      <td>0.526104</td>\n",
       "      <td>1034.303571</td>\n",
       "      <td>4.000000</td>\n",
       "    </tr>\n",
       "    <tr>\n",
       "      <th>75%</th>\n",
       "      <td>1.877525e+07</td>\n",
       "      <td>105.000000</td>\n",
       "      <td>3.371429</td>\n",
       "      <td>0.944444</td>\n",
       "      <td>1285.514925</td>\n",
       "      <td>4.000000</td>\n",
       "    </tr>\n",
       "    <tr>\n",
       "      <th>max</th>\n",
       "      <td>3.632868e+07</td>\n",
       "      <td>1011.000000</td>\n",
       "      <td>149.000000</td>\n",
       "      <td>40.000000</td>\n",
       "      <td>8828.000000</td>\n",
       "      <td>4.000000</td>\n",
       "    </tr>\n",
       "  </tbody>\n",
       "</table>\n",
       "</div>"
      ],
      "text/plain": [
       "            book_id     user_count        n_votes     n_comments  \\\n",
       "count  4.780330e+05  478033.000000  478033.000000  478033.000000   \n",
       "mean   1.320363e+07      90.333774       2.721216       0.798006   \n",
       "std    9.071462e+06     132.473632       3.325982       1.105773   \n",
       "min    1.000000e+00       1.000000       0.000000       0.000000   \n",
       "25%    6.489636e+06      15.000000       0.868657       0.238806   \n",
       "50%    1.320676e+07      38.000000       1.766667       0.526104   \n",
       "75%    1.877525e+07     105.000000       3.371429       0.944444   \n",
       "max    3.632868e+07    1011.000000     149.000000      40.000000   \n",
       "\n",
       "          review_len         rating  \n",
       "count  478033.000000  478033.000000  \n",
       "mean     1076.183197       3.995161  \n",
       "std       413.388117       0.069391  \n",
       "min         9.000000       3.000000  \n",
       "25%       803.095238       4.000000  \n",
       "50%      1034.303571       4.000000  \n",
       "75%      1285.514925       4.000000  \n",
       "max      8828.000000       4.000000  "
      ]
     },
     "execution_count": 49,
     "metadata": {},
     "output_type": "execute_result"
    }
   ],
   "source": [
    "result.describe()"
   ]
  },
  {
   "cell_type": "code",
   "execution_count": 50,
   "id": "db433ead",
   "metadata": {
    "execution": {
     "iopub.execute_input": "2022-08-27T16:44:13.341055Z",
     "iopub.status.busy": "2022-08-27T16:44:13.340334Z",
     "iopub.status.idle": "2022-08-27T16:44:14.118023Z",
     "shell.execute_reply": "2022-08-27T16:44:14.117056Z"
    },
    "papermill": {
     "duration": 0.808079,
     "end_time": "2022-08-27T16:44:14.120819",
     "exception": false,
     "start_time": "2022-08-27T16:44:13.312740",
     "status": "completed"
    },
    "tags": []
   },
   "outputs": [],
   "source": [
    "result_sub = result[['review_id', 'rating']]\n",
    "result_sub.to_csv(\"submission.csv\", index=False)"
   ]
  },
  {
   "cell_type": "code",
   "execution_count": 51,
   "id": "47d70344",
   "metadata": {
    "execution": {
     "iopub.execute_input": "2022-08-27T16:44:14.175420Z",
     "iopub.status.busy": "2022-08-27T16:44:14.174322Z",
     "iopub.status.idle": "2022-08-27T16:44:14.180934Z",
     "shell.execute_reply": "2022-08-27T16:44:14.179814Z"
    },
    "papermill": {
     "duration": 0.03639,
     "end_time": "2022-08-27T16:44:14.183268",
     "exception": false,
     "start_time": "2022-08-27T16:44:14.146878",
     "status": "completed"
    },
    "tags": []
   },
   "outputs": [
    {
     "data": {
      "text/plain": [
       "(478033, 478033)"
      ]
     },
     "execution_count": 51,
     "metadata": {},
     "output_type": "execute_result"
    }
   ],
   "source": [
    "len(df_sub), len(result_sub)"
   ]
  },
  {
   "cell_type": "code",
   "execution_count": null,
   "id": "719f643f",
   "metadata": {
    "papermill": {
     "duration": 0.025788,
     "end_time": "2022-08-27T16:44:14.235091",
     "exception": false,
     "start_time": "2022-08-27T16:44:14.209303",
     "status": "completed"
    },
    "tags": []
   },
   "outputs": [],
   "source": []
  }
 ],
 "metadata": {
  "kernelspec": {
   "display_name": "Python 3",
   "language": "python",
   "name": "python3"
  },
  "language_info": {
   "codemirror_mode": {
    "name": "ipython",
    "version": 3
   },
   "file_extension": ".py",
   "mimetype": "text/x-python",
   "name": "python",
   "nbconvert_exporter": "python",
   "pygments_lexer": "ipython3",
   "version": "3.7.12"
  },
  "papermill": {
   "default_parameters": {},
   "duration": 257.976973,
   "end_time": "2022-08-27T16:44:15.990068",
   "environment_variables": {},
   "exception": null,
   "input_path": "__notebook__.ipynb",
   "output_path": "__notebook__.ipynb",
   "parameters": {},
   "start_time": "2022-08-27T16:39:58.013095",
   "version": "2.3.4"
  }
 },
 "nbformat": 4,
 "nbformat_minor": 5
}
